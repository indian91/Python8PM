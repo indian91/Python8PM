{
 "cells": [
  {
   "cell_type": "code",
   "execution_count": 1,
   "metadata": {},
   "outputs": [
    {
     "name": "stdout",
     "output_type": "stream",
     "text": [
      "['__class__', '__contains__', '__delattr__', '__delitem__', '__dir__', '__doc__', '__eq__', '__format__', '__ge__', '__getattribute__', '__getitem__', '__gt__', '__hash__', '__init__', '__init_subclass__', '__iter__', '__le__', '__len__', '__lt__', '__ne__', '__new__', '__reduce__', '__reduce_ex__', '__repr__', '__setattr__', '__setitem__', '__sizeof__', '__str__', '__subclasshook__', 'clear', 'copy', 'fromkeys', 'get', 'items', 'keys', 'pop', 'popitem', 'setdefault', 'update', 'values']\n"
     ]
    }
   ],
   "source": [
    "print(dir(dict))"
   ]
  },
  {
   "cell_type": "code",
   "execution_count": 2,
   "metadata": {},
   "outputs": [],
   "source": [
    "l=[i for i in dir(dict) if i[0].islower()]"
   ]
  },
  {
   "cell_type": "code",
   "execution_count": 4,
   "metadata": {},
   "outputs": [
    {
     "name": "stdout",
     "output_type": "stream",
     "text": [
      "clear\n",
      "copy\n",
      "fromkeys\n",
      "get\n",
      "items\n",
      "keys\n",
      "pop\n",
      "popitem\n",
      "setdefault\n",
      "update\n",
      "values\n"
     ]
    }
   ],
   "source": [
    "print(*l,sep='\\n')"
   ]
  },
  {
   "cell_type": "code",
   "execution_count": 5,
   "metadata": {},
   "outputs": [],
   "source": [
    "d={'Name':\"Sachin\",'Course':'DS'}"
   ]
  },
  {
   "cell_type": "code",
   "execution_count": 6,
   "metadata": {},
   "outputs": [
    {
     "data": {
      "text/plain": [
       "'Sachin'"
      ]
     },
     "execution_count": 6,
     "metadata": {},
     "output_type": "execute_result"
    }
   ],
   "source": [
    "d[\"Name\"]"
   ]
  },
  {
   "cell_type": "code",
   "execution_count": 7,
   "metadata": {},
   "outputs": [
    {
     "data": {
      "text/plain": [
       "'DS'"
      ]
     },
     "execution_count": 7,
     "metadata": {},
     "output_type": "execute_result"
    }
   ],
   "source": [
    "d['Course']"
   ]
  },
  {
   "cell_type": "code",
   "execution_count": 8,
   "metadata": {},
   "outputs": [
    {
     "data": {
      "text/plain": [
       "21"
      ]
     },
     "execution_count": 8,
     "metadata": {},
     "output_type": "execute_result"
    }
   ],
   "source": [
    "d.setdefault('Age',21)"
   ]
  },
  {
   "cell_type": "code",
   "execution_count": 9,
   "metadata": {},
   "outputs": [
    {
     "data": {
      "text/plain": [
       "{'Name': 'Sachin', 'Course': 'DS', 'Age': 21}"
      ]
     },
     "execution_count": 9,
     "metadata": {},
     "output_type": "execute_result"
    }
   ],
   "source": [
    "d"
   ]
  },
  {
   "cell_type": "code",
   "execution_count": 10,
   "metadata": {},
   "outputs": [
    {
     "data": {
      "text/plain": [
       "'DS'"
      ]
     },
     "execution_count": 10,
     "metadata": {},
     "output_type": "execute_result"
    }
   ],
   "source": [
    "d.setdefault('Course','Python')"
   ]
  },
  {
   "cell_type": "code",
   "execution_count": 11,
   "metadata": {},
   "outputs": [],
   "source": [
    "d.update(color='red')"
   ]
  },
  {
   "cell_type": "code",
   "execution_count": 12,
   "metadata": {},
   "outputs": [
    {
     "data": {
      "text/plain": [
       "{'Name': 'Sachin', 'Course': 'DS', 'Age': 21, 'color': 'red'}"
      ]
     },
     "execution_count": 12,
     "metadata": {},
     "output_type": "execute_result"
    }
   ],
   "source": [
    "d"
   ]
  },
  {
   "cell_type": "code",
   "execution_count": 13,
   "metadata": {},
   "outputs": [],
   "source": [
    "d.update(Course='Python')"
   ]
  },
  {
   "cell_type": "code",
   "execution_count": 14,
   "metadata": {},
   "outputs": [
    {
     "data": {
      "text/plain": [
       "{'Name': 'Sachin', 'Course': 'Python', 'Age': 21, 'color': 'red'}"
      ]
     },
     "execution_count": 14,
     "metadata": {},
     "output_type": "execute_result"
    }
   ],
   "source": [
    "d"
   ]
  },
  {
   "cell_type": "code",
   "execution_count": 15,
   "metadata": {},
   "outputs": [
    {
     "data": {
      "text/plain": [
       "'red'"
      ]
     },
     "execution_count": 15,
     "metadata": {},
     "output_type": "execute_result"
    }
   ],
   "source": [
    "d.pop('color')"
   ]
  },
  {
   "cell_type": "code",
   "execution_count": 16,
   "metadata": {},
   "outputs": [
    {
     "ename": "KeyError",
     "evalue": "'color'",
     "output_type": "error",
     "traceback": [
      "\u001b[1;31m---------------------------------------------------------------------------\u001b[0m",
      "\u001b[1;31mKeyError\u001b[0m                                  Traceback (most recent call last)",
      "\u001b[1;32m<ipython-input-16-558faff9e3b3>\u001b[0m in \u001b[0;36m<module>\u001b[1;34m\u001b[0m\n\u001b[1;32m----> 1\u001b[1;33m \u001b[0md\u001b[0m\u001b[1;33m.\u001b[0m\u001b[0mpop\u001b[0m\u001b[1;33m(\u001b[0m\u001b[1;34m'color'\u001b[0m\u001b[1;33m)\u001b[0m\u001b[1;33m\u001b[0m\u001b[1;33m\u001b[0m\u001b[0m\n\u001b[0m",
      "\u001b[1;31mKeyError\u001b[0m: 'color'"
     ]
    }
   ],
   "source": [
    "d.pop('color')"
   ]
  },
  {
   "cell_type": "code",
   "execution_count": 17,
   "metadata": {},
   "outputs": [
    {
     "data": {
      "text/plain": [
       "'black'"
      ]
     },
     "execution_count": 17,
     "metadata": {},
     "output_type": "execute_result"
    }
   ],
   "source": [
    "d.pop('color','black')"
   ]
  },
  {
   "cell_type": "code",
   "execution_count": 18,
   "metadata": {},
   "outputs": [
    {
     "data": {
      "text/plain": [
       "21"
      ]
     },
     "execution_count": 18,
     "metadata": {},
     "output_type": "execute_result"
    }
   ],
   "source": [
    "d.pop('Age',22)"
   ]
  },
  {
   "cell_type": "code",
   "execution_count": 19,
   "metadata": {},
   "outputs": [
    {
     "data": {
      "text/plain": [
       "22"
      ]
     },
     "execution_count": 19,
     "metadata": {},
     "output_type": "execute_result"
    }
   ],
   "source": [
    "d.pop('Age',22)"
   ]
  },
  {
   "cell_type": "code",
   "execution_count": 20,
   "metadata": {},
   "outputs": [
    {
     "data": {
      "text/plain": [
       "{'Name': 'Sachin', 'Course': 'Python'}"
      ]
     },
     "execution_count": 20,
     "metadata": {},
     "output_type": "execute_result"
    }
   ],
   "source": [
    "d"
   ]
  },
  {
   "cell_type": "code",
   "execution_count": 21,
   "metadata": {},
   "outputs": [
    {
     "name": "stdout",
     "output_type": "stream",
     "text": [
      "<class 'tuple'>\n"
     ]
    }
   ],
   "source": [
    "print(type(d.popitem()))"
   ]
  },
  {
   "cell_type": "code",
   "execution_count": 22,
   "metadata": {},
   "outputs": [
    {
     "data": {
      "text/plain": [
       "{'Name': 'Sachin'}"
      ]
     },
     "execution_count": 22,
     "metadata": {},
     "output_type": "execute_result"
    }
   ],
   "source": [
    "d"
   ]
  },
  {
   "cell_type": "code",
   "execution_count": 23,
   "metadata": {},
   "outputs": [
    {
     "data": {
      "text/plain": [
       "('Name', 'Sachin')"
      ]
     },
     "execution_count": 23,
     "metadata": {},
     "output_type": "execute_result"
    }
   ],
   "source": [
    "d.popitem()"
   ]
  },
  {
   "cell_type": "code",
   "execution_count": 24,
   "metadata": {},
   "outputs": [
    {
     "ename": "KeyError",
     "evalue": "'popitem(): dictionary is empty'",
     "output_type": "error",
     "traceback": [
      "\u001b[1;31m---------------------------------------------------------------------------\u001b[0m",
      "\u001b[1;31mKeyError\u001b[0m                                  Traceback (most recent call last)",
      "\u001b[1;32m<ipython-input-24-83c64cff336b>\u001b[0m in \u001b[0;36m<module>\u001b[1;34m\u001b[0m\n\u001b[1;32m----> 1\u001b[1;33m \u001b[0md\u001b[0m\u001b[1;33m.\u001b[0m\u001b[0mpopitem\u001b[0m\u001b[1;33m(\u001b[0m\u001b[1;33m)\u001b[0m\u001b[1;33m\u001b[0m\u001b[1;33m\u001b[0m\u001b[0m\n\u001b[0m",
      "\u001b[1;31mKeyError\u001b[0m: 'popitem(): dictionary is empty'"
     ]
    }
   ],
   "source": [
    "d.popitem()"
   ]
  },
  {
   "cell_type": "code",
   "execution_count": 25,
   "metadata": {},
   "outputs": [
    {
     "data": {
      "text/plain": [
       "{}"
      ]
     },
     "execution_count": 25,
     "metadata": {},
     "output_type": "execute_result"
    }
   ],
   "source": [
    "d"
   ]
  },
  {
   "cell_type": "code",
   "execution_count": 26,
   "metadata": {},
   "outputs": [
    {
     "data": {
      "text/plain": [
       "{'A': None, 'B': None, 'C': None, 'D': None}"
      ]
     },
     "execution_count": 26,
     "metadata": {},
     "output_type": "execute_result"
    }
   ],
   "source": [
    "d.fromkeys('ABCD')"
   ]
  },
  {
   "cell_type": "code",
   "execution_count": 27,
   "metadata": {},
   "outputs": [
    {
     "data": {
      "text/plain": [
       "{}"
      ]
     },
     "execution_count": 27,
     "metadata": {},
     "output_type": "execute_result"
    }
   ],
   "source": [
    "d"
   ]
  },
  {
   "cell_type": "code",
   "execution_count": 28,
   "metadata": {},
   "outputs": [
    {
     "data": {
      "text/plain": [
       "{'A': 1, 'B': 1, 'C': 1, 'D': 1}"
      ]
     },
     "execution_count": 28,
     "metadata": {},
     "output_type": "execute_result"
    }
   ],
   "source": [
    "d.fromkeys('ABCD',1)"
   ]
  },
  {
   "cell_type": "code",
   "execution_count": 29,
   "metadata": {},
   "outputs": [
    {
     "data": {
      "text/plain": [
       "{'A': 'EFGH', 'B': 'EFGH', 'C': 'EFGH', 'D': 'EFGH'}"
      ]
     },
     "execution_count": 29,
     "metadata": {},
     "output_type": "execute_result"
    }
   ],
   "source": [
    "d.fromkeys('ABCD','EFGH')"
   ]
  },
  {
   "cell_type": "code",
   "execution_count": 30,
   "metadata": {},
   "outputs": [
    {
     "data": {
      "text/plain": [
       "{'A': [1, 2, 3, 4], 'B': [1, 2, 3, 4], 'C': [1, 2, 3, 4], 'D': [1, 2, 3, 4]}"
      ]
     },
     "execution_count": 30,
     "metadata": {},
     "output_type": "execute_result"
    }
   ],
   "source": [
    "d.fromkeys('ABCD',[1,2,3,4])"
   ]
  },
  {
   "cell_type": "code",
   "execution_count": 31,
   "metadata": {},
   "outputs": [
    {
     "data": {
      "text/plain": [
       "{'A': (1, 2, 3, 4), 'B': (1, 2, 3, 4), 'C': (1, 2, 3, 4), 'D': (1, 2, 3, 4)}"
      ]
     },
     "execution_count": 31,
     "metadata": {},
     "output_type": "execute_result"
    }
   ],
   "source": [
    "d.fromkeys('ABCD',(1,2,3,4))"
   ]
  },
  {
   "cell_type": "code",
   "execution_count": 44,
   "metadata": {},
   "outputs": [],
   "source": [
    "d={1001:{'Name':'Sachin','Bal':10000,'Pwd':'redhat@123'},\n",
    "   1002:{'Name':'Samyak','Bal':20000,'Pwd':'redhat'},\n",
    "   1003:{'Name':'Rajat','Bal':30000,'Pwd':'1234'}\n",
    "  }"
   ]
  },
  {
   "cell_type": "code",
   "execution_count": 33,
   "metadata": {},
   "outputs": [
    {
     "ename": "KeyError",
     "evalue": "'Name'",
     "output_type": "error",
     "traceback": [
      "\u001b[1;31m---------------------------------------------------------------------------\u001b[0m",
      "\u001b[1;31mKeyError\u001b[0m                                  Traceback (most recent call last)",
      "\u001b[1;32m<ipython-input-33-f71fe6f02871>\u001b[0m in \u001b[0;36m<module>\u001b[1;34m\u001b[0m\n\u001b[1;32m----> 1\u001b[1;33m \u001b[0md\u001b[0m\u001b[1;33m[\u001b[0m\u001b[1;34m'Name'\u001b[0m\u001b[1;33m]\u001b[0m\u001b[1;33m\u001b[0m\u001b[1;33m\u001b[0m\u001b[0m\n\u001b[0m",
      "\u001b[1;31mKeyError\u001b[0m: 'Name'"
     ]
    }
   ],
   "source": [
    "d['Name']"
   ]
  },
  {
   "cell_type": "code",
   "execution_count": 34,
   "metadata": {},
   "outputs": [
    {
     "data": {
      "text/plain": [
       "dict_keys([1001, 1002, 1003])"
      ]
     },
     "execution_count": 34,
     "metadata": {},
     "output_type": "execute_result"
    }
   ],
   "source": [
    "d.keys()"
   ]
  },
  {
   "cell_type": "code",
   "execution_count": 35,
   "metadata": {},
   "outputs": [
    {
     "ename": "TypeError",
     "evalue": "'int' object is not subscriptable",
     "output_type": "error",
     "traceback": [
      "\u001b[1;31m---------------------------------------------------------------------------\u001b[0m",
      "\u001b[1;31mTypeError\u001b[0m                                 Traceback (most recent call last)",
      "\u001b[1;32m<ipython-input-35-f6d0e9f715a9>\u001b[0m in \u001b[0;36m<module>\u001b[1;34m\u001b[0m\n\u001b[1;32m----> 1\u001b[1;33m \u001b[1;36m1001\u001b[0m\u001b[1;33m[\u001b[0m\u001b[1;34m'Name'\u001b[0m\u001b[1;33m]\u001b[0m\u001b[1;33m\u001b[0m\u001b[1;33m\u001b[0m\u001b[0m\n\u001b[0m",
      "\u001b[1;31mTypeError\u001b[0m: 'int' object is not subscriptable"
     ]
    }
   ],
   "source": [
    "1001['Name']"
   ]
  },
  {
   "cell_type": "code",
   "execution_count": 36,
   "metadata": {},
   "outputs": [
    {
     "data": {
      "text/plain": [
       "'Sachin'"
      ]
     },
     "execution_count": 36,
     "metadata": {},
     "output_type": "execute_result"
    }
   ],
   "source": [
    "d[1001]['Name']"
   ]
  },
  {
   "cell_type": "code",
   "execution_count": 37,
   "metadata": {},
   "outputs": [
    {
     "data": {
      "text/plain": [
       "'Samyak'"
      ]
     },
     "execution_count": 37,
     "metadata": {},
     "output_type": "execute_result"
    }
   ],
   "source": [
    "d[1002]['Name']"
   ]
  },
  {
   "cell_type": "code",
   "execution_count": 38,
   "metadata": {},
   "outputs": [
    {
     "data": {
      "text/plain": [
       "'Rajat'"
      ]
     },
     "execution_count": 38,
     "metadata": {},
     "output_type": "execute_result"
    }
   ],
   "source": [
    "d[1003]['Name']"
   ]
  },
  {
   "cell_type": "code",
   "execution_count": 39,
   "metadata": {},
   "outputs": [
    {
     "name": "stdout",
     "output_type": "stream",
     "text": [
      "1001\n",
      "1002\n",
      "1003\n"
     ]
    }
   ],
   "source": [
    "for i in d:\n",
    "    print(i)"
   ]
  },
  {
   "cell_type": "code",
   "execution_count": 40,
   "metadata": {},
   "outputs": [
    {
     "name": "stdout",
     "output_type": "stream",
     "text": [
      "{'Name': 'Sachin', 'Bal': 10000, 'Pwd': 'redhat@123'}\n",
      "{'Name': 'Samyak', 'Bal': 20000, 'Pwd': 'redhat'}\n",
      "{'Name': 'Rajat', 'Bal': 30000, 'PWd': '1234'}\n"
     ]
    }
   ],
   "source": [
    "for i in d:\n",
    "    print(d[i])"
   ]
  },
  {
   "cell_type": "code",
   "execution_count": 41,
   "metadata": {},
   "outputs": [
    {
     "name": "stdout",
     "output_type": "stream",
     "text": [
      "Sachin\n",
      "Samyak\n",
      "Rajat\n"
     ]
    }
   ],
   "source": [
    "for i in d:\n",
    "    print(d[i]['Name'])"
   ]
  },
  {
   "cell_type": "code",
   "execution_count": 42,
   "metadata": {},
   "outputs": [
    {
     "name": "stdout",
     "output_type": "stream",
     "text": [
      "10000\n",
      "20000\n",
      "30000\n"
     ]
    }
   ],
   "source": [
    "for i in d:\n",
    "    print(d[i]['Bal'])"
   ]
  },
  {
   "cell_type": "code",
   "execution_count": 45,
   "metadata": {},
   "outputs": [
    {
     "name": "stdout",
     "output_type": "stream",
     "text": [
      "redhat@123\n",
      "redhat\n",
      "1234\n"
     ]
    }
   ],
   "source": [
    "for i in d:\n",
    "    print(d[i]['Pwd'])"
   ]
  },
  {
   "cell_type": "code",
   "execution_count": 46,
   "metadata": {},
   "outputs": [
    {
     "name": "stdout",
     "output_type": "stream",
     "text": [
      "Sachin\n",
      "Samyak\n",
      "Rajat\n"
     ]
    }
   ],
   "source": [
    "print(d[1001]['Name'])\n",
    "print(d[1002]['Name'])\n",
    "print(d[1003]['Name'])"
   ]
  },
  {
   "cell_type": "code",
   "execution_count": 47,
   "metadata": {},
   "outputs": [
    {
     "data": {
      "text/plain": [
       "dict_keys([1001, 1002, 1003])"
      ]
     },
     "execution_count": 47,
     "metadata": {},
     "output_type": "execute_result"
    }
   ],
   "source": [
    "d.keys()"
   ]
  },
  {
   "cell_type": "code",
   "execution_count": 48,
   "metadata": {},
   "outputs": [
    {
     "name": "stdout",
     "output_type": "stream",
     "text": [
      "Sachin\n",
      "Samyak\n",
      "Rajat\n"
     ]
    }
   ],
   "source": [
    "for i in d:\n",
    "    print(d[i]['Name'])"
   ]
  },
  {
   "cell_type": "code",
   "execution_count": 49,
   "metadata": {},
   "outputs": [
    {
     "name": "stdout",
     "output_type": "stream",
     "text": [
      "10000\n",
      "20000\n",
      "30000\n"
     ]
    }
   ],
   "source": [
    "for i in d:\n",
    "    print(d[i]['Bal'])"
   ]
  },
  {
   "cell_type": "code",
   "execution_count": 50,
   "metadata": {},
   "outputs": [
    {
     "name": "stdout",
     "output_type": "stream",
     "text": [
      "redhat@123\n",
      "redhat\n",
      "1234\n"
     ]
    }
   ],
   "source": [
    "for i in d:\n",
    "    print(d[i]['Pwd'])"
   ]
  },
  {
   "cell_type": "code",
   "execution_count": 54,
   "metadata": {},
   "outputs": [
    {
     "name": "stdout",
     "output_type": "stream",
     "text": [
      "Sachin\n",
      "10000\n",
      "redhat@123\n",
      "Samyak\n",
      "20000\n",
      "redhat\n",
      "Rajat\n",
      "30000\n",
      "1234\n"
     ]
    }
   ],
   "source": [
    "for i in d:\n",
    "    for j in d[i]:\n",
    "        print(d[i][j])"
   ]
  },
  {
   "cell_type": "code",
   "execution_count": 53,
   "metadata": {},
   "outputs": [
    {
     "data": {
      "text/plain": [
       "{'Name': 'Sachin', 'Bal': 10000, 'Pwd': 'redhat@123'}"
      ]
     },
     "execution_count": 53,
     "metadata": {},
     "output_type": "execute_result"
    }
   ],
   "source": [
    "d[1001]"
   ]
  },
  {
   "cell_type": "code",
   "execution_count": 55,
   "metadata": {},
   "outputs": [
    {
     "name": "stdout",
     "output_type": "stream",
     "text": [
      "Name--->Sachin\tBalance--->10000\tPasswd--->redhat@123\n",
      "Name--->Samyak\tBalance--->20000\tPasswd--->redhat\n",
      "Name--->Rajat\tBalance--->30000\tPasswd--->1234\n"
     ]
    }
   ],
   "source": [
    "for i in d:\n",
    "    print(f\"Name--->{d[i]['Name']}\\tBalance--->{d[i]['Bal']}\\tPasswd--->{d[i]['Pwd']}\")"
   ]
  },
  {
   "cell_type": "code",
   "execution_count": 56,
   "metadata": {},
   "outputs": [
    {
     "data": {
      "text/plain": [
       "{1001: {'Name': 'Sachin', 'Bal': 10000, 'Pwd': 'redhat@123'},\n",
       " 1002: {'Name': 'Samyak', 'Bal': 20000, 'Pwd': 'redhat'},\n",
       " 1003: {'Name': 'Rajat', 'Bal': 30000, 'Pwd': '1234'}}"
      ]
     },
     "execution_count": 56,
     "metadata": {},
     "output_type": "execute_result"
    }
   ],
   "source": [
    "d"
   ]
  },
  {
   "cell_type": "code",
   "execution_count": 60,
   "metadata": {},
   "outputs": [
    {
     "name": "stdout",
     "output_type": "stream",
     "text": [
      "Enter account Number1002\n",
      "Enter Passwordredhat\n",
      "Name--->Samyak Bal--->20000\n"
     ]
    }
   ],
   "source": [
    "acc=int(input('Enter account Number'))\n",
    "if acc in d:\n",
    "    pwd=input('Enter Password')\n",
    "    if pwd==d[acc]['Pwd']:\n",
    "        print(f\"Name--->{d[acc]['Name']} Bal--->{d[acc]['Bal']}\")\n",
    "    else:\n",
    "        print('Invalid Password')\n",
    "else:\n",
    "    print('Account not Exist')"
   ]
  },
  {
   "cell_type": "code",
   "execution_count": 61,
   "metadata": {},
   "outputs": [
    {
     "name": "stdout",
     "output_type": "stream",
     "text": [
      "Enter account Number1001\n",
      "Enter Passworddwdwde\n",
      "Invalid Password\n"
     ]
    }
   ],
   "source": [
    "acc=int(input('Enter account Number'))\n",
    "if acc in d:\n",
    "    pwd=input('Enter Password')\n",
    "    if pwd==d[acc]['Pwd']:\n",
    "        print(f\"Name--->{d[acc]['Name']} Bal--->{d[acc]['Bal']}\")\n",
    "    else:\n",
    "        print('Invalid Password')\n",
    "else:\n",
    "    print('Account not Exist')"
   ]
  },
  {
   "cell_type": "code",
   "execution_count": 62,
   "metadata": {},
   "outputs": [
    {
     "name": "stdout",
     "output_type": "stream",
     "text": [
      "Enter account Number1004\n",
      "Account not Exist\n"
     ]
    }
   ],
   "source": [
    "acc=int(input('Enter account Number'))\n",
    "if acc in d:\n",
    "    pwd=input('Enter Password')\n",
    "    if pwd==d[acc]['Pwd']:\n",
    "        print(f\"Name--->{d[acc]['Name']} Bal--->{d[acc]['Bal']}\")\n",
    "    else:\n",
    "        print('Invalid Password')\n",
    "else:\n",
    "    print('Account not Exist')"
   ]
  },
  {
   "cell_type": "code",
   "execution_count": 63,
   "metadata": {},
   "outputs": [
    {
     "name": "stdout",
     "output_type": "stream",
     "text": [
      "Enter Train Name: Rajdhani Express\n",
      "Enter Source Station: Delhi\n",
      "Enter Destination Station: Mumbai\n",
      "Enter Time from Source to Destination in HH:MM: 18:10\n",
      "Enter Stopage List Seprated By SpaceMathura Bharatpur Kota Ratlam Surat Vadodara\n",
      "Enter Train Name: Golden Temple\n",
      "Enter Source Station: Amritsar\n",
      "Enter Destination Station: Mumbai\n",
      "Enter Time from Source to Destination in HH:MM: 16:00\n",
      "Enter Stopage List Seprated By SpaceMohali Jaipur Kota Surat Gujrat\n",
      "Enter Train Name: Delhi Jaipur Express\n",
      "Enter Source Station: Delhi\n",
      "Enter Destination Station: Jaipur\n",
      "Enter Time from Source to Destination in HH:MM: 4:00\n",
      "Enter Stopage List Seprated By SpaceMathura\n"
     ]
    }
   ],
   "source": [
    "d={1001:{'Name':input('Enter Train Name: '),'Source':input('Enter Source Station: '),'Dest':input('Enter Destination Station: '),'Duartion':input('Enter Time from Source to Destination in HH:MM: '),'Stopage':input('Enter Stopage List Seprated By Space').split()},\n",
    "   1002:{'Name':input('Enter Train Name: '),'Source':input('Enter Source Station: '),'Dest':input('Enter Destination Station: '),'Duartion':input('Enter Time from Source to Destination in HH:MM: '),'Stopage':input('Enter Stopage List Seprated By Space').split()},\n",
    "   1003:{'Name':input('Enter Train Name: '),'Source':input('Enter Source Station: '),'Dest':input('Enter Destination Station: '),'Duartion':input('Enter Time from Source to Destination in HH:MM: '),'Stopage':input('Enter Stopage List Seprated By Space').split()}\n",
    "  }"
   ]
  },
  {
   "cell_type": "code",
   "execution_count": 64,
   "metadata": {},
   "outputs": [
    {
     "name": "stdout",
     "output_type": "stream",
     "text": [
      "{1001: {'Name': 'Rajdhani Express', 'Source': 'Delhi', 'Dest': 'Mumbai', 'Duartion': '18:10', 'Stopage': ['Mathura', 'Bharatpur', 'Kota', 'Ratlam', 'Surat', 'Vadodara']}, 1002: {'Name': 'Golden Temple', 'Source': 'Amritsar', 'Dest': 'Mumbai', 'Duartion': '16:00', 'Stopage': ['Mohali', 'Jaipur', 'Kota', 'Surat', 'Gujrat']}, 1003: {'Name': 'Delhi Jaipur Express', 'Source': 'Delhi', 'Dest': 'Jaipur', 'Duartion': '4:00', 'Stopage': ['Mathura']}}\n"
     ]
    }
   ],
   "source": [
    "print(d)"
   ]
  },
  {
   "cell_type": "code",
   "execution_count": 65,
   "metadata": {},
   "outputs": [],
   "source": [
    "from pprint import pprint"
   ]
  },
  {
   "cell_type": "code",
   "execution_count": 66,
   "metadata": {},
   "outputs": [
    {
     "name": "stdout",
     "output_type": "stream",
     "text": [
      "{1001: {'Dest': 'Mumbai',\n",
      "        'Duartion': '18:10',\n",
      "        'Name': 'Rajdhani Express',\n",
      "        'Source': 'Delhi',\n",
      "        'Stopage': ['Mathura',\n",
      "                    'Bharatpur',\n",
      "                    'Kota',\n",
      "                    'Ratlam',\n",
      "                    'Surat',\n",
      "                    'Vadodara']},\n",
      " 1002: {'Dest': 'Mumbai',\n",
      "        'Duartion': '16:00',\n",
      "        'Name': 'Golden Temple',\n",
      "        'Source': 'Amritsar',\n",
      "        'Stopage': ['Mohali', 'Jaipur', 'Kota', 'Surat', 'Gujrat']},\n",
      " 1003: {'Dest': 'Jaipur',\n",
      "        'Duartion': '4:00',\n",
      "        'Name': 'Delhi Jaipur Express',\n",
      "        'Source': 'Delhi',\n",
      "        'Stopage': ['Mathura']}}\n"
     ]
    }
   ],
   "source": [
    "pprint(d)"
   ]
  },
  {
   "cell_type": "code",
   "execution_count": 67,
   "metadata": {},
   "outputs": [
    {
     "data": {
      "text/plain": [
       "{'Name': 'Rajdhani Express',\n",
       " 'Source': 'Delhi',\n",
       " 'Dest': 'Mumbai',\n",
       " 'Duartion': '18:10',\n",
       " 'Stopage': ['Mathura', 'Bharatpur', 'Kota', 'Ratlam', 'Surat', 'Vadodara']}"
      ]
     },
     "execution_count": 67,
     "metadata": {},
     "output_type": "execute_result"
    }
   ],
   "source": [
    "d[1001]"
   ]
  },
  {
   "cell_type": "code",
   "execution_count": 68,
   "metadata": {},
   "outputs": [
    {
     "data": {
      "text/plain": [
       "{'Name': 'Golden Temple',\n",
       " 'Source': 'Amritsar',\n",
       " 'Dest': 'Mumbai',\n",
       " 'Duartion': '16:00',\n",
       " 'Stopage': ['Mohali', 'Jaipur', 'Kota', 'Surat', 'Gujrat']}"
      ]
     },
     "execution_count": 68,
     "metadata": {},
     "output_type": "execute_result"
    }
   ],
   "source": [
    "d[1002]"
   ]
  },
  {
   "cell_type": "code",
   "execution_count": 70,
   "metadata": {},
   "outputs": [
    {
     "data": {
      "text/plain": [
       "{'Name': 'Delhi Jaipur Express',\n",
       " 'Source': 'Delhi',\n",
       " 'Dest': 'Jaipur',\n",
       " 'Duartion': '4:00',\n",
       " 'Stopage': ['Mathura']}"
      ]
     },
     "execution_count": 70,
     "metadata": {},
     "output_type": "execute_result"
    }
   ],
   "source": [
    "d[1003]"
   ]
  },
  {
   "cell_type": "code",
   "execution_count": 71,
   "metadata": {},
   "outputs": [
    {
     "data": {
      "text/plain": [
       "dict_keys([1001, 1002, 1003])"
      ]
     },
     "execution_count": 71,
     "metadata": {},
     "output_type": "execute_result"
    }
   ],
   "source": [
    "d.keys()"
   ]
  },
  {
   "cell_type": "code",
   "execution_count": 72,
   "metadata": {},
   "outputs": [
    {
     "data": {
      "text/plain": [
       "'Rajdhani Express'"
      ]
     },
     "execution_count": 72,
     "metadata": {},
     "output_type": "execute_result"
    }
   ],
   "source": [
    "d[1001]['Name']"
   ]
  },
  {
   "cell_type": "code",
   "execution_count": 77,
   "metadata": {},
   "outputs": [
    {
     "name": "stdout",
     "output_type": "stream",
     "text": [
      "Name of Train: Rajdhani Express\n",
      "Source: Delhi\n",
      "Destination: Mumbai\n",
      "Duration: 18:10\n",
      "Stopage: ['Mathura', 'Bharatpur', 'Kota', 'Ratlam', 'Surat', 'Vadodara']\n",
      "\n",
      "\n",
      "Name of Train: Golden Temple\n",
      "Source: Amritsar\n",
      "Destination: Mumbai\n",
      "Duration: 16:00\n",
      "Stopage: ['Mohali', 'Jaipur', 'Kota', 'Surat', 'Gujrat']\n",
      "\n",
      "\n",
      "Name of Train: Delhi Jaipur Express\n",
      "Source: Delhi\n",
      "Destination: Jaipur\n",
      "Duration: 4:00\n",
      "Stopage: ['Mathura']\n",
      "\n",
      "\n"
     ]
    }
   ],
   "source": [
    "for i in d:\n",
    "    print(f\"Name of Train: {d[i]['Name']}\")\n",
    "    print(f\"Source: {d[i]['Source']}\")\n",
    "    print(f\"Destination: {d[i]['Dest']}\")\n",
    "    print(f\"Duration: {d[i]['Duartion']}\")\n",
    "    print(f\"Stopage: {d[i]['Stopage']}\")\n",
    "    print(end='\\n\\n')"
   ]
  },
  {
   "cell_type": "code",
   "execution_count": 79,
   "metadata": {},
   "outputs": [
    {
     "data": {
      "text/plain": [
       "list"
      ]
     },
     "execution_count": 79,
     "metadata": {},
     "output_type": "execute_result"
    }
   ],
   "source": [
    "type(d[1003]['Stopage'])"
   ]
  },
  {
   "cell_type": "code",
   "execution_count": 80,
   "metadata": {},
   "outputs": [],
   "source": [
    "d[1003]['Stopage'].append('Sawaimadhopur')"
   ]
  },
  {
   "cell_type": "code",
   "execution_count": 81,
   "metadata": {},
   "outputs": [
    {
     "data": {
      "text/plain": [
       "{1001: {'Name': 'Rajdhani Express',\n",
       "  'Source': 'Delhi',\n",
       "  'Dest': 'Mumbai',\n",
       "  'Duartion': '18:10',\n",
       "  'Stopage': ['Mathura', 'Bharatpur', 'Kota', 'Ratlam', 'Surat', 'Vadodara']},\n",
       " 1002: {'Name': 'Golden Temple',\n",
       "  'Source': 'Amritsar',\n",
       "  'Dest': 'Mumbai',\n",
       "  'Duartion': '16:00',\n",
       "  'Stopage': ['Mohali', 'Jaipur', 'Kota', 'Surat', 'Gujrat']},\n",
       " 1003: {'Name': 'Delhi Jaipur Express',\n",
       "  'Source': 'Delhi',\n",
       "  'Dest': 'Jaipur',\n",
       "  'Duartion': '4:00',\n",
       "  'Stopage': ['Mathura', 'Sawaimadhopur']}}"
      ]
     },
     "execution_count": 81,
     "metadata": {},
     "output_type": "execute_result"
    }
   ],
   "source": [
    "d"
   ]
  },
  {
   "cell_type": "code",
   "execution_count": 82,
   "metadata": {},
   "outputs": [],
   "source": [
    "d={'Electronic':{\n",
    "                    'Mobile':{'Brand':['One Plus','Samsung'],'Price':[50000,20000],'Stock':[40,60]},\n",
    "                    'Laptop':{'Brand':['Microsoft','Samsung'],'Price':[200000,50000],'Stock':[20,40]},\n",
    "                },\n",
    "  \n",
    "   'Stationary':{\n",
    "                 'Pen':{'Brand':['Link','Fine'],'Price':[5,10],'Stock':[100,150]},\n",
    "                 'Register':{'Brand':['Classmate','Icon'],'Price':[50,70],'Stock':[100,100]}\n",
    "                },\n",
    "   \n",
    "   'Chocolate':{\n",
    "                   'Cadbury':{'Brand':['Dairy Milk','5-Star'],'Price':[20,10],'Stock':[100,150]},\n",
    "                   'Nestle':{'Brand':['Munch','Kit-Kat'],'Price':[5,10],'Stock':[100,200]}\n",
    "               }\n",
    "  }"
   ]
  },
  {
   "cell_type": "code",
   "execution_count": 83,
   "metadata": {},
   "outputs": [
    {
     "data": {
      "text/plain": [
       "dict_keys(['Electronic', 'Stationary', 'Chocolate'])"
      ]
     },
     "execution_count": 83,
     "metadata": {},
     "output_type": "execute_result"
    }
   ],
   "source": [
    "d.keys()"
   ]
  },
  {
   "cell_type": "code",
   "execution_count": 84,
   "metadata": {},
   "outputs": [
    {
     "data": {
      "text/plain": [
       "dict_keys(['Mobile', 'Laptop'])"
      ]
     },
     "execution_count": 84,
     "metadata": {},
     "output_type": "execute_result"
    }
   ],
   "source": [
    "d['Electronic'].keys()"
   ]
  },
  {
   "cell_type": "code",
   "execution_count": 85,
   "metadata": {},
   "outputs": [
    {
     "data": {
      "text/plain": [
       "{'Brand': ['One Plus', 'Samsung'], 'Price': [50000, 20000], 'Stock': [40, 60]}"
      ]
     },
     "execution_count": 85,
     "metadata": {},
     "output_type": "execute_result"
    }
   ],
   "source": [
    "d['Electronic']['Mobile']"
   ]
  },
  {
   "cell_type": "code",
   "execution_count": 86,
   "metadata": {},
   "outputs": [
    {
     "data": {
      "text/plain": [
       "dict_keys(['Brand', 'Price', 'Stock'])"
      ]
     },
     "execution_count": 86,
     "metadata": {},
     "output_type": "execute_result"
    }
   ],
   "source": [
    "d['Electronic']['Mobile'].keys()"
   ]
  },
  {
   "cell_type": "code",
   "execution_count": 87,
   "metadata": {},
   "outputs": [
    {
     "data": {
      "text/plain": [
       "['One Plus', 'Samsung']"
      ]
     },
     "execution_count": 87,
     "metadata": {},
     "output_type": "execute_result"
    }
   ],
   "source": [
    "d['Electronic']['Mobile']['Brand']"
   ]
  },
  {
   "cell_type": "code",
   "execution_count": 88,
   "metadata": {},
   "outputs": [
    {
     "ename": "AttributeError",
     "evalue": "'list' object has no attribute 'keys'",
     "output_type": "error",
     "traceback": [
      "\u001b[1;31m---------------------------------------------------------------------------\u001b[0m",
      "\u001b[1;31mAttributeError\u001b[0m                            Traceback (most recent call last)",
      "\u001b[1;32m<ipython-input-88-290b4db862ca>\u001b[0m in \u001b[0;36m<module>\u001b[1;34m\u001b[0m\n\u001b[1;32m----> 1\u001b[1;33m \u001b[0md\u001b[0m\u001b[1;33m[\u001b[0m\u001b[1;34m'Electronic'\u001b[0m\u001b[1;33m]\u001b[0m\u001b[1;33m[\u001b[0m\u001b[1;34m'Mobile'\u001b[0m\u001b[1;33m]\u001b[0m\u001b[1;33m[\u001b[0m\u001b[1;34m'Brand'\u001b[0m\u001b[1;33m]\u001b[0m\u001b[1;33m.\u001b[0m\u001b[0mkeys\u001b[0m\u001b[1;33m(\u001b[0m\u001b[1;33m)\u001b[0m\u001b[1;33m\u001b[0m\u001b[1;33m\u001b[0m\u001b[0m\n\u001b[0m",
      "\u001b[1;31mAttributeError\u001b[0m: 'list' object has no attribute 'keys'"
     ]
    }
   ],
   "source": [
    "d['Electronic']['Mobile']['Brand'].keys()"
   ]
  },
  {
   "cell_type": "code",
   "execution_count": 89,
   "metadata": {},
   "outputs": [
    {
     "data": {
      "text/plain": [
       "['Microsoft', 'Samsung']"
      ]
     },
     "execution_count": 89,
     "metadata": {},
     "output_type": "execute_result"
    }
   ],
   "source": [
    "d['Electronic']['Laptop']['Brand']"
   ]
  },
  {
   "cell_type": "code",
   "execution_count": 90,
   "metadata": {},
   "outputs": [
    {
     "data": {
      "text/plain": [
       "[200000, 50000]"
      ]
     },
     "execution_count": 90,
     "metadata": {},
     "output_type": "execute_result"
    }
   ],
   "source": [
    "d['Electronic']['Laptop']['Price']"
   ]
  },
  {
   "cell_type": "code",
   "execution_count": 91,
   "metadata": {},
   "outputs": [
    {
     "name": "stdout",
     "output_type": "stream",
     "text": [
      "Brand\n",
      "Price\n",
      "Stock\n"
     ]
    }
   ],
   "source": [
    "for i in d['Electronic']['Laptop']:\n",
    "    print(i)"
   ]
  },
  {
   "cell_type": "code",
   "execution_count": 99,
   "metadata": {},
   "outputs": [
    {
     "name": "stdout",
     "output_type": "stream",
     "text": [
      "Microsoft\n",
      "Samsung\n",
      "200000\n",
      "50000\n",
      "20\n",
      "40\n"
     ]
    }
   ],
   "source": [
    "for i in d['Electronic']['Laptop']:\n",
    "    for j in range(len(d['Electronic']['Laptop'][i])):\n",
    "        print(d['Electronic']['Laptop'][i][j])"
   ]
  },
  {
   "cell_type": "code",
   "execution_count": 112,
   "metadata": {},
   "outputs": [
    {
     "name": "stdout",
     "output_type": "stream",
     "text": [
      "Microsoft\n",
      "200000\n",
      "20\n",
      "Samsung\n",
      "50000\n",
      "40\n"
     ]
    }
   ],
   "source": [
    "for i in d['Electronic']['Laptop']:\n",
    "    print(f\"{d['Electronic']['Laptop'][i][0]}\")\n",
    "for i in d['Electronic']['Laptop']:\n",
    "    print(f\"{d['Electronic']['Laptop'][i][1]}\")   "
   ]
  },
  {
   "cell_type": "code",
   "execution_count": 124,
   "metadata": {},
   "outputs": [
    {
     "name": "stdout",
     "output_type": "stream",
     "text": [
      "Brand--->Microsoft Brand--->Samsung \n",
      "Price--->200000 Price--->50000 \n",
      "Stock--->20 Stock--->40 \n"
     ]
    }
   ],
   "source": [
    "for i in d['Electronic']['Laptop']:\n",
    "    for j in range(2):\n",
    "        print(f\"{i}--->{d['Electronic']['Laptop'][i][j]}\",end=' ')\n",
    "    print(end='\\n')"
   ]
  },
  {
   "cell_type": "code",
   "execution_count": null,
   "metadata": {},
   "outputs": [],
   "source": []
  }
 ],
 "metadata": {
  "kernelspec": {
   "display_name": "Python 3",
   "language": "python",
   "name": "python3"
  },
  "language_info": {
   "codemirror_mode": {
    "name": "ipython",
    "version": 3
   },
   "file_extension": ".py",
   "mimetype": "text/x-python",
   "name": "python",
   "nbconvert_exporter": "python",
   "pygments_lexer": "ipython3",
   "version": "3.7.3"
  }
 },
 "nbformat": 4,
 "nbformat_minor": 2
}
