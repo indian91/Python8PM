{
 "cells": [
  {
   "cell_type": "raw",
   "metadata": {},
   "source": [
    "JSON---->File Handling---->data read,write\n",
    "d---->str(d)"
   ]
  },
  {
   "cell_type": "code",
   "execution_count": 1,
   "metadata": {},
   "outputs": [],
   "source": [
    "import json"
   ]
  },
  {
   "cell_type": "code",
   "execution_count": 2,
   "metadata": {},
   "outputs": [],
   "source": [
    "#Serailization---->We store the data from any type to string---->json.dumps,json.dump\n",
    "#Deserialization-->Retrive the data in original format---->json.load,json.loads"
   ]
  },
  {
   "cell_type": "code",
   "execution_count": 3,
   "metadata": {},
   "outputs": [],
   "source": [
    "d={1001:{'Name':'sachin','Bal':10000,'Pwd':'redhat@123'}}"
   ]
  },
  {
   "cell_type": "code",
   "execution_count": 4,
   "metadata": {},
   "outputs": [
    {
     "data": {
      "text/plain": [
       "dict"
      ]
     },
     "execution_count": 4,
     "metadata": {},
     "output_type": "execute_result"
    }
   ],
   "source": [
    "type(d)"
   ]
  },
  {
   "cell_type": "code",
   "execution_count": 7,
   "metadata": {},
   "outputs": [],
   "source": [
    "x=json.dumps(d)#Ser."
   ]
  },
  {
   "cell_type": "code",
   "execution_count": 8,
   "metadata": {},
   "outputs": [
    {
     "name": "stdout",
     "output_type": "stream",
     "text": [
      "{\"1001\": {\"Name\": \"sachin\", \"Bal\": 10000, \"Pwd\": \"redhat@123\"}}\n"
     ]
    }
   ],
   "source": [
    "print(x)"
   ]
  },
  {
   "cell_type": "code",
   "execution_count": 9,
   "metadata": {},
   "outputs": [
    {
     "data": {
      "text/plain": [
       "str"
      ]
     },
     "execution_count": 9,
     "metadata": {},
     "output_type": "execute_result"
    }
   ],
   "source": [
    "type(x)"
   ]
  },
  {
   "cell_type": "code",
   "execution_count": 10,
   "metadata": {},
   "outputs": [
    {
     "data": {
      "text/plain": [
       "'{\"1001\": {\"Name\": \"sachin\", \"Bal\": 10000, \"Pwd\": \"redhat@123\"}}'"
      ]
     },
     "execution_count": 10,
     "metadata": {},
     "output_type": "execute_result"
    }
   ],
   "source": [
    "x"
   ]
  },
  {
   "cell_type": "code",
   "execution_count": 11,
   "metadata": {},
   "outputs": [],
   "source": [
    "y=json.loads(x)#Deserialization"
   ]
  },
  {
   "cell_type": "code",
   "execution_count": 12,
   "metadata": {},
   "outputs": [
    {
     "data": {
      "text/plain": [
       "{'1001': {'Name': 'sachin', 'Bal': 10000, 'Pwd': 'redhat@123'}}"
      ]
     },
     "execution_count": 12,
     "metadata": {},
     "output_type": "execute_result"
    }
   ],
   "source": [
    "y"
   ]
  },
  {
   "cell_type": "code",
   "execution_count": 13,
   "metadata": {},
   "outputs": [
    {
     "name": "stdout",
     "output_type": "stream",
     "text": [
      "{'1001': {'Name': 'sachin', 'Bal': 10000, 'Pwd': 'redhat@123'}}\n"
     ]
    }
   ],
   "source": [
    "print(y)"
   ]
  },
  {
   "cell_type": "code",
   "execution_count": 14,
   "metadata": {},
   "outputs": [
    {
     "data": {
      "text/plain": [
       "dict"
      ]
     },
     "execution_count": 14,
     "metadata": {},
     "output_type": "execute_result"
    }
   ],
   "source": [
    "type(y)"
   ]
  },
  {
   "cell_type": "code",
   "execution_count": 15,
   "metadata": {},
   "outputs": [],
   "source": [
    "f=open('hello.json','w')"
   ]
  },
  {
   "cell_type": "code",
   "execution_count": 17,
   "metadata": {},
   "outputs": [],
   "source": [
    "json.dump(d,f)"
   ]
  },
  {
   "cell_type": "code",
   "execution_count": 18,
   "metadata": {},
   "outputs": [],
   "source": [
    "f.close()"
   ]
  },
  {
   "cell_type": "code",
   "execution_count": 19,
   "metadata": {},
   "outputs": [
    {
     "name": "stdout",
     "output_type": "stream",
     "text": [
      "{\"1001\": {\"Name\": \"sachin\", \"Bal\": 10000, \"Pwd\": \"redhat@123\"}}\n"
     ]
    }
   ],
   "source": [
    "!type hello.json"
   ]
  },
  {
   "cell_type": "code",
   "execution_count": 20,
   "metadata": {},
   "outputs": [],
   "source": [
    "f=open('hello.json')"
   ]
  },
  {
   "cell_type": "code",
   "execution_count": 21,
   "metadata": {},
   "outputs": [],
   "source": [
    "data=f.read()"
   ]
  },
  {
   "cell_type": "code",
   "execution_count": 22,
   "metadata": {},
   "outputs": [
    {
     "name": "stdout",
     "output_type": "stream",
     "text": [
      "{\"1001\": {\"Name\": \"sachin\", \"Bal\": 10000, \"Pwd\": \"redhat@123\"}}\n"
     ]
    }
   ],
   "source": [
    "print(data)"
   ]
  },
  {
   "cell_type": "code",
   "execution_count": 23,
   "metadata": {},
   "outputs": [
    {
     "data": {
      "text/plain": [
       "str"
      ]
     },
     "execution_count": 23,
     "metadata": {},
     "output_type": "execute_result"
    }
   ],
   "source": [
    "type(data)"
   ]
  },
  {
   "cell_type": "code",
   "execution_count": 24,
   "metadata": {},
   "outputs": [],
   "source": [
    "f=open('hello.json')"
   ]
  },
  {
   "cell_type": "code",
   "execution_count": 25,
   "metadata": {},
   "outputs": [],
   "source": [
    "data=json.load(f)"
   ]
  },
  {
   "cell_type": "code",
   "execution_count": 26,
   "metadata": {},
   "outputs": [
    {
     "name": "stdout",
     "output_type": "stream",
     "text": [
      "{'1001': {'Name': 'sachin', 'Bal': 10000, 'Pwd': 'redhat@123'}}\n"
     ]
    }
   ],
   "source": [
    "print(data)"
   ]
  },
  {
   "cell_type": "code",
   "execution_count": 27,
   "metadata": {},
   "outputs": [
    {
     "data": {
      "text/plain": [
       "dict"
      ]
     },
     "execution_count": 27,
     "metadata": {},
     "output_type": "execute_result"
    }
   ],
   "source": [
    "type(data)"
   ]
  },
  {
   "cell_type": "code",
   "execution_count": 28,
   "metadata": {},
   "outputs": [],
   "source": [
    "import pickle"
   ]
  },
  {
   "cell_type": "code",
   "execution_count": 29,
   "metadata": {},
   "outputs": [
    {
     "data": {
      "text/plain": [
       "{1001: {'Name': 'sachin', 'Bal': 10000, 'Pwd': 'redhat@123'}}"
      ]
     },
     "execution_count": 29,
     "metadata": {},
     "output_type": "execute_result"
    }
   ],
   "source": [
    "d"
   ]
  },
  {
   "cell_type": "code",
   "execution_count": 30,
   "metadata": {},
   "outputs": [],
   "source": [
    "x=pickle.dumps(d)"
   ]
  },
  {
   "cell_type": "code",
   "execution_count": 31,
   "metadata": {},
   "outputs": [
    {
     "name": "stdout",
     "output_type": "stream",
     "text": [
      "b\"\\x80\\x03}q\\x00M\\xe9\\x03}q\\x01(X\\x04\\x00\\x00\\x00Nameq\\x02X\\x06\\x00\\x00\\x00sachinq\\x03X\\x03\\x00\\x00\\x00Balq\\x04M\\x10'X\\x03\\x00\\x00\\x00Pwdq\\x05X\\n\\x00\\x00\\x00redhat@123q\\x06us.\"\n"
     ]
    }
   ],
   "source": [
    "print(x)"
   ]
  },
  {
   "cell_type": "code",
   "execution_count": 32,
   "metadata": {},
   "outputs": [
    {
     "data": {
      "text/plain": [
       "bytes"
      ]
     },
     "execution_count": 32,
     "metadata": {},
     "output_type": "execute_result"
    }
   ],
   "source": [
    "type(x)"
   ]
  },
  {
   "cell_type": "code",
   "execution_count": 33,
   "metadata": {},
   "outputs": [],
   "source": [
    "y=pickle.loads(x)"
   ]
  },
  {
   "cell_type": "code",
   "execution_count": 34,
   "metadata": {},
   "outputs": [
    {
     "name": "stdout",
     "output_type": "stream",
     "text": [
      "{1001: {'Name': 'sachin', 'Bal': 10000, 'Pwd': 'redhat@123'}}\n"
     ]
    }
   ],
   "source": [
    "print(y)"
   ]
  },
  {
   "cell_type": "code",
   "execution_count": 35,
   "metadata": {},
   "outputs": [
    {
     "data": {
      "text/plain": [
       "dict"
      ]
     },
     "execution_count": 35,
     "metadata": {},
     "output_type": "execute_result"
    }
   ],
   "source": [
    "type(y)"
   ]
  },
  {
   "cell_type": "code",
   "execution_count": 36,
   "metadata": {},
   "outputs": [],
   "source": [
    "f=open('hello.pickle','wb')"
   ]
  },
  {
   "cell_type": "code",
   "execution_count": 37,
   "metadata": {},
   "outputs": [
    {
     "data": {
      "text/plain": [
       "{1001: {'Name': 'sachin', 'Bal': 10000, 'Pwd': 'redhat@123'}}"
      ]
     },
     "execution_count": 37,
     "metadata": {},
     "output_type": "execute_result"
    }
   ],
   "source": [
    "d"
   ]
  },
  {
   "cell_type": "code",
   "execution_count": 38,
   "metadata": {},
   "outputs": [],
   "source": [
    "pickle.dump(d,f)"
   ]
  },
  {
   "cell_type": "code",
   "execution_count": 39,
   "metadata": {},
   "outputs": [],
   "source": [
    "f.close()"
   ]
  },
  {
   "cell_type": "code",
   "execution_count": 48,
   "metadata": {},
   "outputs": [],
   "source": [
    "f=open('hello.pickle','rb')"
   ]
  },
  {
   "cell_type": "code",
   "execution_count": 41,
   "metadata": {},
   "outputs": [],
   "source": [
    "data=f.read()"
   ]
  },
  {
   "cell_type": "code",
   "execution_count": 42,
   "metadata": {},
   "outputs": [
    {
     "name": "stdout",
     "output_type": "stream",
     "text": [
      "b\"\\x80\\x03}q\\x00M\\xe9\\x03}q\\x01(X\\x04\\x00\\x00\\x00Nameq\\x02X\\x06\\x00\\x00\\x00sachinq\\x03X\\x03\\x00\\x00\\x00Balq\\x04M\\x10'X\\x03\\x00\\x00\\x00Pwdq\\x05X\\n\\x00\\x00\\x00redhat@123q\\x06us.\"\n"
     ]
    }
   ],
   "source": [
    "print(data)"
   ]
  },
  {
   "cell_type": "code",
   "execution_count": 43,
   "metadata": {},
   "outputs": [
    {
     "data": {
      "text/plain": [
       "bytes"
      ]
     },
     "execution_count": 43,
     "metadata": {},
     "output_type": "execute_result"
    }
   ],
   "source": [
    "type(data)"
   ]
  },
  {
   "cell_type": "code",
   "execution_count": 49,
   "metadata": {},
   "outputs": [],
   "source": [
    "data=pickle.load(f)"
   ]
  },
  {
   "cell_type": "code",
   "execution_count": 50,
   "metadata": {},
   "outputs": [
    {
     "data": {
      "text/plain": [
       "{1001: {'Name': 'sachin', 'Bal': 10000, 'Pwd': 'redhat@123'}}"
      ]
     },
     "execution_count": 50,
     "metadata": {},
     "output_type": "execute_result"
    }
   ],
   "source": [
    "data"
   ]
  },
  {
   "cell_type": "code",
   "execution_count": 51,
   "metadata": {},
   "outputs": [
    {
     "name": "stdout",
     "output_type": "stream",
     "text": [
      "{1001: {'Name': 'sachin', 'Bal': 10000, 'Pwd': 'redhat@123'}}\n"
     ]
    }
   ],
   "source": [
    "print(data)"
   ]
  },
  {
   "cell_type": "code",
   "execution_count": 52,
   "metadata": {},
   "outputs": [
    {
     "data": {
      "text/plain": [
       "dict"
      ]
     },
     "execution_count": 52,
     "metadata": {},
     "output_type": "execute_result"
    }
   ],
   "source": [
    "type(data)"
   ]
  },
  {
   "cell_type": "code",
   "execution_count": 53,
   "metadata": {},
   "outputs": [],
   "source": [
    "#Bank Application---->1.Signup 2. Login 3. Exit"
   ]
  },
  {
   "cell_type": "code",
   "execution_count": 4,
   "metadata": {},
   "outputs": [],
   "source": [
    "import os"
   ]
  },
  {
   "cell_type": "code",
   "execution_count": 56,
   "metadata": {},
   "outputs": [],
   "source": [
    "os.mkdir('Bank/')"
   ]
  },
  {
   "cell_type": "code",
   "execution_count": 62,
   "metadata": {},
   "outputs": [],
   "source": [
    "from getpass import getpass"
   ]
  },
  {
   "cell_type": "code",
   "execution_count": 63,
   "metadata": {},
   "outputs": [
    {
     "name": "stdout",
     "output_type": "stream",
     "text": [
      "Enter your NameSamyak\n",
      "Enter Balance10000\n",
      "Enter Password········\n",
      "Enter your NameSachin\n",
      "Enter Balance20000\n",
      "Enter Password········\n",
      "Enter your NameRajat\n",
      "Enter Balance30000\n",
      "Enter Password········\n"
     ]
    }
   ],
   "source": [
    "for i in range(1001,1004):\n",
    "    d={'Name':input('Enter your Name'),'Bal':int(input('Enter Balance')),'Pwd':getpass('Enter Password')}\n",
    "    path=f'Bank/{i}'+'.json'\n",
    "    f=open(path,'w')\n",
    "    json.dump(d,f)\n",
    "    f.close()"
   ]
  },
  {
   "cell_type": "code",
   "execution_count": 56,
   "metadata": {},
   "outputs": [
    {
     "name": "stdout",
     "output_type": "stream",
     "text": [
      "Overwriting bank.py\n"
     ]
    }
   ],
   "source": [
    "%%writefile bank.py\n",
    "import time\n",
    "import json\n",
    "import os\n",
    "from getpass import getpass\n",
    "def main():\n",
    "    time.sleep(3)\n",
    "    os.system('cls')\n",
    "    f=open('log.txt','a')\n",
    "    s=f\"\\n{time.strftime('%d-%m-%Y')}\\t\\t{time.strftime('%H:%M:%S')}\\t\\tStart Application\"\n",
    "    f.write(s)\n",
    "    f.close()\n",
    "    s='''1.Signup\\n2.Login\\n3.Exit'''\n",
    "    print(s)\n",
    "    ch=int(input('Enter choice from above'))\n",
    "    if ch==1:\n",
    "        signup()\n",
    "    elif ch==2:\n",
    "        login()\n",
    "    else:\n",
    "        exit()\n",
    "def exit():\n",
    "    f=open('log.txt','a')\n",
    "    s=f\"\\n{time.strftime('%d-%m-%Y')}\\t\\t{time.strftime('%H:%M:%S')}\\t\\tApplication Closed\"\n",
    "    f.write(s)\n",
    "    f.close()\n",
    "    print('Thanks for using our service')\n",
    "    for i in '..........Exciting..........':\n",
    "        time.sleep(0.1)\n",
    "        print(i,end='')\n",
    "        \n",
    "def signup():\n",
    "    print('You are at signup page')\n",
    "    f=open('log.txt','a')\n",
    "    s=f\"\\n{time.strftime('%d-%m-%Y')}\\t\\t{time.strftime('%H:%M:%S')}\\t\\tNew Signup Request\"\n",
    "    f.write(s)\n",
    "    f.close()\n",
    "    d={'Name':input('Enter your Name'),'Bal':int(input('Enter Balance')),'Pwd':getpass('Enter Password')}\n",
    "    acc=int(os.listdir('Bank/')[-1][0:4])\n",
    "    path=f'Bank/{acc+1}'+'.json'\n",
    "    f=open(path,'w')\n",
    "    json.dump(d,f)\n",
    "    f.close()\n",
    "    print('Signup Successfull')\n",
    "    print('Your Account number is: ',acc+1)\n",
    "    print('Now you can login')\n",
    "    f=open('log.txt','a')\n",
    "    s=f\"\\n{time.strftime('%d-%m-%Y')}\\t\\t{time.strftime('%H:%M:%S')}\\t\\tAccount Created Successfully for Account: {acc+1}\"\n",
    "    f.write(s)\n",
    "    f.close()\n",
    "    time.sleep(2)\n",
    "    main()\n",
    "def login():\n",
    "    print('You are at login page')\n",
    "    acc=input('Enter account number')\n",
    "    path=acc+'.json'\n",
    "    if path in os.listdir('Bank/'):\n",
    "        f=open(f'Bank/{path}')\n",
    "        data=json.load(f)\n",
    "        f.close()\n",
    "        pwd=getpass('Enter Password')\n",
    "        if pwd==data['Pwd']:\n",
    "            time.sleep(1)\n",
    "            f=open('log.txt','a')\n",
    "            s=f\"\\n{time.strftime('%d-%m-%Y')}\\t\\t{time.strftime('%H:%M:%S')}\\t\\tLogin for Account: {acc}\"\n",
    "            f.write(s)\n",
    "            f.close()\n",
    "            s='''1.Debit\\n2.Credit\\n3.Update Password\\n4.Check Balance\\n5.Logout'''\n",
    "            print(s)\n",
    "            ch=int(input('Enter any choice from above'))\n",
    "            if ch==1:\n",
    "                debit(acc,pwd)\n",
    "            elif ch==2:\n",
    "                credit(acc,pwd)\n",
    "            elif ch==3:\n",
    "                update_pwd(acc,pwd)\n",
    "            elif ch==4:\n",
    "                check_bal(acc,pwd)\n",
    "            else:\n",
    "                main()\n",
    "        else:\n",
    "            time.sleep(0.5)\n",
    "            print('Invalid Password')\n",
    "            f=open('log.txt','a')\n",
    "            s=f\"\\n{time.strftime('%d-%m-%Y')}\\t\\t{time.strftime('%H:%M:%S')}\\t\\tLogin Failed Due to Invalid Password\"\n",
    "            f.write(s)\n",
    "            f.close()\n",
    "            main()\n",
    "    else:\n",
    "        time.sleep(0.5)\n",
    "        print('Account not exist')\n",
    "        f=open('log.txt','a')\n",
    "        s=f\"\\n{time.strftime('%d-%m-%Y')}\\t\\t{time.strftime('%H:%M:%S')}\\t\\tLogin Falied Due to Incorrect Account Number\"\n",
    "        f.write(s)\n",
    "        f.close()\n",
    "        main()\n",
    "        \n",
    "def debit(acc,pwd):\n",
    "    print('Now you are at debit Transaction Page')\n",
    "    f=open(f'Bank/{acc}.json')\n",
    "    data=json.load(f)\n",
    "    f.close()\n",
    "    amt=int(input('Enter the amount which you want to withdrawl'))\n",
    "    if amt <= data['Bal']:\n",
    "        data['Bal']-=amt\n",
    "        f=open(f'Bank/{acc}.json','w')\n",
    "        json.dump(data,f)\n",
    "        f.close()\n",
    "        time.sleep(0.5)\n",
    "        print('Debit Successful')\n",
    "        f=open('log.txt','a')\n",
    "        s=f\"\\n{time.strftime('%d-%m-%Y')}\\t\\t{time.strftime('%H:%M:%S')}\\t\\tWithdrwal Succesfull for account: {acc}\"\n",
    "        f.write(s)\n",
    "        f.close()   \n",
    "        time.sleep(1)\n",
    "        main()\n",
    "    else:\n",
    "        print('Insufficient Balance Amount')\n",
    "        f=open('log.txt','a')\n",
    "        s=f\"\\n{time.strftime('%d-%m-%Y')}\\t\\t{time.strftime('%H:%M:%S')}\\t\\tWithdrawl Failed due to Insufficient Account Balance for Account: {acc}\"\n",
    "        f.write(s)\n",
    "        f.close()\n",
    "        login()\n",
    "def credit(acc,pwd):\n",
    "    print('Now you are at credit Transaction Page')\n",
    "    f=open(f'Bank/{acc}.json')\n",
    "    data=json.load(f)\n",
    "    f.close()\n",
    "    amt=int(input('Enter the amount which you want to deposit'))\n",
    "    data['Bal']+=amt\n",
    "    f=open(f'Bank/{acc}.json','w')\n",
    "    json.dump(data,f)\n",
    "    f.close()\n",
    "    time.sleep(0.5)\n",
    "    print('Credit Successful')\n",
    "    f=open('log.txt','a')\n",
    "    s=f\"\\n{time.strftime('%d-%m-%Y')}\\t\\t{time.strftime('%H:%M:%S')}\\t\\tDeposit Successfull for account : {acc}\"\n",
    "    f.write(s)\n",
    "    f.close()\n",
    "    time.sleep(1)\n",
    "    main()\n",
    "def update_pwd(acc,pwd):\n",
    "    print('Now you are at udpate password Page')\n",
    "    f=open(f'Bank/{acc}.json')\n",
    "    data=json.load(f)\n",
    "    f.close()\n",
    "    pass1=getpass('Enter new password')\n",
    "    pass2=getpass('Confirm Password')\n",
    "    if pass1==pass2:\n",
    "        data['Pwd']=pass1\n",
    "        f=open(f'Bank/{acc}.json','w')\n",
    "        json.dump(data,f)\n",
    "        f.close()\n",
    "        time.sleep(0.5)\n",
    "        print('Password updated Successfully')\n",
    "        f=open('log.txt','a')\n",
    "        s=f\"\\n{time.strftime('%d-%m-%Y')}\\t\\t{time.strftime('%H:%M:%S')}\\t\\tPassword Updated for account: {acc}\"\n",
    "        f.write(s)\n",
    "        f.close()\n",
    "        time.sleep(1)\n",
    "        main()\n",
    "    else:\n",
    "        print('Confirm Password Does not match')\n",
    "        f=open('log.txt','a')\n",
    "        s=f\"\\n{time.strftime('%d-%m-%Y')}\\t\\t{time.strftime('%H:%M:%S')}\\t\\tPassword Update falied due to incorrect Password\"\n",
    "        f.write(s)\n",
    "        f.close()\n",
    "        update_pwd()\n",
    "def check_bal(acc,pwd):\n",
    "    print('Now you are at Check Balance Page')\n",
    "    f=open(f'Bank/{acc}.json')\n",
    "    data=json.load(f)\n",
    "    f.close()\n",
    "    time.sleep(0.5)\n",
    "    print('Your Account Balance: ',data['Bal'])\n",
    "    f=open('log.txt','a')\n",
    "    s=f\"\\n{time.strftime('%d-%m-%Y')}\\t\\t{time.strftime('%H:%M:%S')}\\t\\tBalance Check For account: {acc}\"\n",
    "    f.write(s)\n",
    "    f.close()\n",
    "    time.sleep(1)\n",
    "    main()\n",
    "print('*'*80)\n",
    "print('*'*80)\n",
    "print()\n",
    "print('Welcome to Our Bank'.center(80,' '))\n",
    "print()\n",
    "print('*'*80)\n",
    "print('*'*80)\n",
    "main()"
   ]
  },
  {
   "cell_type": "code",
   "execution_count": 55,
   "metadata": {},
   "outputs": [
    {
     "name": "stdout",
     "output_type": "stream",
     "text": [
      "                                              Log File                                              \n",
      "Date\t\tTime\t\tDiscription\n",
      "10-06-2020\t\t19:22:16\t\tStart Application\n",
      "10-06-2020\t\t19:22:32\t\tLogin Failed Due to Invalid Password\n",
      "10-06-2020\t\t19:22:32\t\tStart Application\n",
      "10-06-2020\t\t19:22:40\t\tLogin for Account: 1001\n",
      "10-06-2020\t\t19:22:48\t\tDeposit Successfull for account : 1001\n",
      "10-06-2020\t\t19:22:48\t\tStart Application\n",
      "10-06-2020\t\t19:22:52\t\tApplication Closed\n",
      "10-06-2020\t\t19:27:38\t\tStart Application\n",
      "10-06-2020\t\t19:27:42\t\tNew Signup Request\n",
      "10-06-2020\t\t19:27:57\t\tAccount Created Successfully for Account: 1005\n",
      "10-06-2020\t\t19:27:59\t\tStart Application\n",
      "10-06-2020\t\t19:28:11\t\tLogin for Account: 1006\n",
      "10-06-2020\t\t19:28:17\t\tStart Application\n",
      "10-06-2020\t\t19:28:20\t\tApplication Closed\n",
      "10-06-2020\t\t19:29:02\t\tStart Application\n",
      "10-06-2020\t\t19:29:20\t\tLogin for Account: 1001\n",
      "10-06-2020\t\t19:29:22\t\tBalance Check For account: 1001\n",
      "10-06-2020\t\t19:29:22\t\tStart Application\n",
      "10-06-2020\t\t19:31:33\t\tStart Application\n",
      "10-06-2020\t\t19:31:42\t\tLogin for Account: 1003\n",
      "10-06-2020\t\t19:31:44\t\tBalance Check For account: 1003\n",
      "10-06-2020\t\t19:31:48\t\tStart Application\n",
      "10-06-2020\t\t19:31:51\t\tApplication Closed\n"
     ]
    }
   ],
   "source": [
    "!type log.txt"
   ]
  },
  {
   "cell_type": "code",
   "execution_count": 57,
   "metadata": {},
   "outputs": [],
   "source": [
    "#shelve---->dictionary"
   ]
  },
  {
   "cell_type": "code",
   "execution_count": 58,
   "metadata": {},
   "outputs": [],
   "source": [
    "import shelve"
   ]
  },
  {
   "cell_type": "code",
   "execution_count": 60,
   "metadata": {},
   "outputs": [],
   "source": [
    "import os"
   ]
  },
  {
   "cell_type": "code",
   "execution_count": 61,
   "metadata": {},
   "outputs": [],
   "source": [
    "os.mkdir('BankApp')"
   ]
  },
  {
   "cell_type": "code",
   "execution_count": 62,
   "metadata": {},
   "outputs": [],
   "source": [
    "db=shelve.open('BankApp/data.db',writeback=True)\n",
    "\n",
    "db['1001']={'Name':'Sachin','Bal':10000,'Pwd':'redhat@123'}\n",
    "db['1002']={'Name':'samyak','Bal':20000,'Pwd':'redhat'}\n",
    "\n",
    "db['last_acc']=1002\n",
    "\n",
    "db.close()"
   ]
  },
  {
   "cell_type": "code",
   "execution_count": 63,
   "metadata": {},
   "outputs": [],
   "source": [
    "db=shelve.open('BankApp/data.db',writeback=True)\n"
   ]
  },
  {
   "cell_type": "code",
   "execution_count": 64,
   "metadata": {},
   "outputs": [
    {
     "data": {
      "text/plain": [
       "{'Name': 'samyak', 'Bal': 20000, 'Pwd': 'redhat'}"
      ]
     },
     "execution_count": 64,
     "metadata": {},
     "output_type": "execute_result"
    }
   ],
   "source": [
    "db['1002']"
   ]
  },
  {
   "cell_type": "code",
   "execution_count": 66,
   "metadata": {},
   "outputs": [
    {
     "data": {
      "text/plain": [
       "{'Name': 'Sachin', 'Bal': 10000, 'Pwd': 'redhat@123'}"
      ]
     },
     "execution_count": 66,
     "metadata": {},
     "output_type": "execute_result"
    }
   ],
   "source": [
    "db['1001']"
   ]
  },
  {
   "cell_type": "code",
   "execution_count": 67,
   "metadata": {},
   "outputs": [
    {
     "name": "stdout",
     "output_type": "stream",
     "text": [
      "1001\n",
      "1002\n",
      "last_acc\n"
     ]
    }
   ],
   "source": [
    "for i in db:\n",
    "    print(i)"
   ]
  },
  {
   "cell_type": "code",
   "execution_count": null,
   "metadata": {},
   "outputs": [],
   "source": []
  }
 ],
 "metadata": {
  "kernelspec": {
   "display_name": "Python 3",
   "language": "python",
   "name": "python3"
  },
  "language_info": {
   "codemirror_mode": {
    "name": "ipython",
    "version": 3
   },
   "file_extension": ".py",
   "mimetype": "text/x-python",
   "name": "python",
   "nbconvert_exporter": "python",
   "pygments_lexer": "ipython3",
   "version": "3.7.3"
  }
 },
 "nbformat": 4,
 "nbformat_minor": 2
}
