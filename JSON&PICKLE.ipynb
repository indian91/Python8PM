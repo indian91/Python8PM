{
 "cells": [
  {
   "cell_type": "raw",
   "metadata": {},
   "source": [
    "JSON---->File Handling---->data read,write\n",
    "d---->str(d)"
   ]
  },
  {
   "cell_type": "code",
   "execution_count": 1,
   "metadata": {},
   "outputs": [],
   "source": [
    "import json"
   ]
  },
  {
   "cell_type": "code",
   "execution_count": 2,
   "metadata": {},
   "outputs": [],
   "source": [
    "#Serailization---->We store the data from any type to string---->json.dumps,json.dump\n",
    "#Deserialization-->Retrive the data in original format---->json.load,json.loads"
   ]
  },
  {
   "cell_type": "code",
   "execution_count": 3,
   "metadata": {},
   "outputs": [],
   "source": [
    "d={1001:{'Name':'sachin','Bal':10000,'Pwd':'redhat@123'}}"
   ]
  },
  {
   "cell_type": "code",
   "execution_count": 4,
   "metadata": {},
   "outputs": [
    {
     "data": {
      "text/plain": [
       "dict"
      ]
     },
     "execution_count": 4,
     "metadata": {},
     "output_type": "execute_result"
    }
   ],
   "source": [
    "type(d)"
   ]
  },
  {
   "cell_type": "code",
   "execution_count": 7,
   "metadata": {},
   "outputs": [],
   "source": [
    "x=json.dumps(d)#Ser."
   ]
  },
  {
   "cell_type": "code",
   "execution_count": 8,
   "metadata": {},
   "outputs": [
    {
     "name": "stdout",
     "output_type": "stream",
     "text": [
      "{\"1001\": {\"Name\": \"sachin\", \"Bal\": 10000, \"Pwd\": \"redhat@123\"}}\n"
     ]
    }
   ],
   "source": [
    "print(x)"
   ]
  },
  {
   "cell_type": "code",
   "execution_count": 9,
   "metadata": {},
   "outputs": [
    {
     "data": {
      "text/plain": [
       "str"
      ]
     },
     "execution_count": 9,
     "metadata": {},
     "output_type": "execute_result"
    }
   ],
   "source": [
    "type(x)"
   ]
  },
  {
   "cell_type": "code",
   "execution_count": 10,
   "metadata": {},
   "outputs": [
    {
     "data": {
      "text/plain": [
       "'{\"1001\": {\"Name\": \"sachin\", \"Bal\": 10000, \"Pwd\": \"redhat@123\"}}'"
      ]
     },
     "execution_count": 10,
     "metadata": {},
     "output_type": "execute_result"
    }
   ],
   "source": [
    "x"
   ]
  },
  {
   "cell_type": "code",
   "execution_count": 11,
   "metadata": {},
   "outputs": [],
   "source": [
    "y=json.loads(x)#Deserialization"
   ]
  },
  {
   "cell_type": "code",
   "execution_count": 12,
   "metadata": {},
   "outputs": [
    {
     "data": {
      "text/plain": [
       "{'1001': {'Name': 'sachin', 'Bal': 10000, 'Pwd': 'redhat@123'}}"
      ]
     },
     "execution_count": 12,
     "metadata": {},
     "output_type": "execute_result"
    }
   ],
   "source": [
    "y"
   ]
  },
  {
   "cell_type": "code",
   "execution_count": 13,
   "metadata": {},
   "outputs": [
    {
     "name": "stdout",
     "output_type": "stream",
     "text": [
      "{'1001': {'Name': 'sachin', 'Bal': 10000, 'Pwd': 'redhat@123'}}\n"
     ]
    }
   ],
   "source": [
    "print(y)"
   ]
  },
  {
   "cell_type": "code",
   "execution_count": 14,
   "metadata": {},
   "outputs": [
    {
     "data": {
      "text/plain": [
       "dict"
      ]
     },
     "execution_count": 14,
     "metadata": {},
     "output_type": "execute_result"
    }
   ],
   "source": [
    "type(y)"
   ]
  },
  {
   "cell_type": "code",
   "execution_count": 15,
   "metadata": {},
   "outputs": [],
   "source": [
    "f=open('hello.json','w')"
   ]
  },
  {
   "cell_type": "code",
   "execution_count": 17,
   "metadata": {},
   "outputs": [],
   "source": [
    "json.dump(d,f)"
   ]
  },
  {
   "cell_type": "code",
   "execution_count": 18,
   "metadata": {},
   "outputs": [],
   "source": [
    "f.close()"
   ]
  },
  {
   "cell_type": "code",
   "execution_count": 19,
   "metadata": {},
   "outputs": [
    {
     "name": "stdout",
     "output_type": "stream",
     "text": [
      "{\"1001\": {\"Name\": \"sachin\", \"Bal\": 10000, \"Pwd\": \"redhat@123\"}}\n"
     ]
    }
   ],
   "source": [
    "!type hello.json"
   ]
  },
  {
   "cell_type": "code",
   "execution_count": 20,
   "metadata": {},
   "outputs": [],
   "source": [
    "f=open('hello.json')"
   ]
  },
  {
   "cell_type": "code",
   "execution_count": 21,
   "metadata": {},
   "outputs": [],
   "source": [
    "data=f.read()"
   ]
  },
  {
   "cell_type": "code",
   "execution_count": 22,
   "metadata": {},
   "outputs": [
    {
     "name": "stdout",
     "output_type": "stream",
     "text": [
      "{\"1001\": {\"Name\": \"sachin\", \"Bal\": 10000, \"Pwd\": \"redhat@123\"}}\n"
     ]
    }
   ],
   "source": [
    "print(data)"
   ]
  },
  {
   "cell_type": "code",
   "execution_count": 23,
   "metadata": {},
   "outputs": [
    {
     "data": {
      "text/plain": [
       "str"
      ]
     },
     "execution_count": 23,
     "metadata": {},
     "output_type": "execute_result"
    }
   ],
   "source": [
    "type(data)"
   ]
  },
  {
   "cell_type": "code",
   "execution_count": 24,
   "metadata": {},
   "outputs": [],
   "source": [
    "f=open('hello.json')"
   ]
  },
  {
   "cell_type": "code",
   "execution_count": 25,
   "metadata": {},
   "outputs": [],
   "source": [
    "data=json.load(f)"
   ]
  },
  {
   "cell_type": "code",
   "execution_count": 26,
   "metadata": {},
   "outputs": [
    {
     "name": "stdout",
     "output_type": "stream",
     "text": [
      "{'1001': {'Name': 'sachin', 'Bal': 10000, 'Pwd': 'redhat@123'}}\n"
     ]
    }
   ],
   "source": [
    "print(data)"
   ]
  },
  {
   "cell_type": "code",
   "execution_count": 27,
   "metadata": {},
   "outputs": [
    {
     "data": {
      "text/plain": [
       "dict"
      ]
     },
     "execution_count": 27,
     "metadata": {},
     "output_type": "execute_result"
    }
   ],
   "source": [
    "type(data)"
   ]
  },
  {
   "cell_type": "code",
   "execution_count": 28,
   "metadata": {},
   "outputs": [],
   "source": [
    "import pickle"
   ]
  },
  {
   "cell_type": "code",
   "execution_count": 29,
   "metadata": {},
   "outputs": [
    {
     "data": {
      "text/plain": [
       "{1001: {'Name': 'sachin', 'Bal': 10000, 'Pwd': 'redhat@123'}}"
      ]
     },
     "execution_count": 29,
     "metadata": {},
     "output_type": "execute_result"
    }
   ],
   "source": [
    "d"
   ]
  },
  {
   "cell_type": "code",
   "execution_count": 30,
   "metadata": {},
   "outputs": [],
   "source": [
    "x=pickle.dumps(d)"
   ]
  },
  {
   "cell_type": "code",
   "execution_count": 31,
   "metadata": {},
   "outputs": [
    {
     "name": "stdout",
     "output_type": "stream",
     "text": [
      "b\"\\x80\\x03}q\\x00M\\xe9\\x03}q\\x01(X\\x04\\x00\\x00\\x00Nameq\\x02X\\x06\\x00\\x00\\x00sachinq\\x03X\\x03\\x00\\x00\\x00Balq\\x04M\\x10'X\\x03\\x00\\x00\\x00Pwdq\\x05X\\n\\x00\\x00\\x00redhat@123q\\x06us.\"\n"
     ]
    }
   ],
   "source": [
    "print(x)"
   ]
  },
  {
   "cell_type": "code",
   "execution_count": 32,
   "metadata": {},
   "outputs": [
    {
     "data": {
      "text/plain": [
       "bytes"
      ]
     },
     "execution_count": 32,
     "metadata": {},
     "output_type": "execute_result"
    }
   ],
   "source": [
    "type(x)"
   ]
  },
  {
   "cell_type": "code",
   "execution_count": 33,
   "metadata": {},
   "outputs": [],
   "source": [
    "y=pickle.loads(x)"
   ]
  },
  {
   "cell_type": "code",
   "execution_count": 34,
   "metadata": {},
   "outputs": [
    {
     "name": "stdout",
     "output_type": "stream",
     "text": [
      "{1001: {'Name': 'sachin', 'Bal': 10000, 'Pwd': 'redhat@123'}}\n"
     ]
    }
   ],
   "source": [
    "print(y)"
   ]
  },
  {
   "cell_type": "code",
   "execution_count": 35,
   "metadata": {},
   "outputs": [
    {
     "data": {
      "text/plain": [
       "dict"
      ]
     },
     "execution_count": 35,
     "metadata": {},
     "output_type": "execute_result"
    }
   ],
   "source": [
    "type(y)"
   ]
  },
  {
   "cell_type": "code",
   "execution_count": 36,
   "metadata": {},
   "outputs": [],
   "source": [
    "f=open('hello.pickle','wb')"
   ]
  },
  {
   "cell_type": "code",
   "execution_count": 37,
   "metadata": {},
   "outputs": [
    {
     "data": {
      "text/plain": [
       "{1001: {'Name': 'sachin', 'Bal': 10000, 'Pwd': 'redhat@123'}}"
      ]
     },
     "execution_count": 37,
     "metadata": {},
     "output_type": "execute_result"
    }
   ],
   "source": [
    "d"
   ]
  },
  {
   "cell_type": "code",
   "execution_count": 38,
   "metadata": {},
   "outputs": [],
   "source": [
    "pickle.dump(d,f)"
   ]
  },
  {
   "cell_type": "code",
   "execution_count": 39,
   "metadata": {},
   "outputs": [],
   "source": [
    "f.close()"
   ]
  },
  {
   "cell_type": "code",
   "execution_count": 48,
   "metadata": {},
   "outputs": [],
   "source": [
    "f=open('hello.pickle','rb')"
   ]
  },
  {
   "cell_type": "code",
   "execution_count": 41,
   "metadata": {},
   "outputs": [],
   "source": [
    "data=f.read()"
   ]
  },
  {
   "cell_type": "code",
   "execution_count": 42,
   "metadata": {},
   "outputs": [
    {
     "name": "stdout",
     "output_type": "stream",
     "text": [
      "b\"\\x80\\x03}q\\x00M\\xe9\\x03}q\\x01(X\\x04\\x00\\x00\\x00Nameq\\x02X\\x06\\x00\\x00\\x00sachinq\\x03X\\x03\\x00\\x00\\x00Balq\\x04M\\x10'X\\x03\\x00\\x00\\x00Pwdq\\x05X\\n\\x00\\x00\\x00redhat@123q\\x06us.\"\n"
     ]
    }
   ],
   "source": [
    "print(data)"
   ]
  },
  {
   "cell_type": "code",
   "execution_count": 43,
   "metadata": {},
   "outputs": [
    {
     "data": {
      "text/plain": [
       "bytes"
      ]
     },
     "execution_count": 43,
     "metadata": {},
     "output_type": "execute_result"
    }
   ],
   "source": [
    "type(data)"
   ]
  },
  {
   "cell_type": "code",
   "execution_count": 49,
   "metadata": {},
   "outputs": [],
   "source": [
    "data=pickle.load(f)"
   ]
  },
  {
   "cell_type": "code",
   "execution_count": 50,
   "metadata": {},
   "outputs": [
    {
     "data": {
      "text/plain": [
       "{1001: {'Name': 'sachin', 'Bal': 10000, 'Pwd': 'redhat@123'}}"
      ]
     },
     "execution_count": 50,
     "metadata": {},
     "output_type": "execute_result"
    }
   ],
   "source": [
    "data"
   ]
  },
  {
   "cell_type": "code",
   "execution_count": 51,
   "metadata": {},
   "outputs": [
    {
     "name": "stdout",
     "output_type": "stream",
     "text": [
      "{1001: {'Name': 'sachin', 'Bal': 10000, 'Pwd': 'redhat@123'}}\n"
     ]
    }
   ],
   "source": [
    "print(data)"
   ]
  },
  {
   "cell_type": "code",
   "execution_count": 52,
   "metadata": {},
   "outputs": [
    {
     "data": {
      "text/plain": [
       "dict"
      ]
     },
     "execution_count": 52,
     "metadata": {},
     "output_type": "execute_result"
    }
   ],
   "source": [
    "type(data)"
   ]
  },
  {
   "cell_type": "code",
   "execution_count": 53,
   "metadata": {},
   "outputs": [],
   "source": [
    "#Bank Application---->1.Signup 2. Login 3. Exit"
   ]
  },
  {
   "cell_type": "code",
   "execution_count": 55,
   "metadata": {},
   "outputs": [],
   "source": [
    "import os"
   ]
  },
  {
   "cell_type": "code",
   "execution_count": 56,
   "metadata": {},
   "outputs": [],
   "source": [
    "os.mkdir('Bank/')"
   ]
  },
  {
   "cell_type": "code",
   "execution_count": 62,
   "metadata": {},
   "outputs": [],
   "source": [
    "from getpass import getpass"
   ]
  },
  {
   "cell_type": "code",
   "execution_count": 63,
   "metadata": {},
   "outputs": [
    {
     "name": "stdout",
     "output_type": "stream",
     "text": [
      "Enter your NameSamyak\n",
      "Enter Balance10000\n",
      "Enter Password········\n",
      "Enter your NameSachin\n",
      "Enter Balance20000\n",
      "Enter Password········\n",
      "Enter your NameRajat\n",
      "Enter Balance30000\n",
      "Enter Password········\n"
     ]
    }
   ],
   "source": [
    "for i in range(1001,1004):\n",
    "    d={'Name':input('Enter your Name'),'Bal':int(input('Enter Balance')),'Pwd':getpass('Enter Password')}\n",
    "    path=f'Bank/{i}'+'.json'\n",
    "    f=open(path,'w')\n",
    "    json.dump(d,f)\n",
    "    f.close()"
   ]
  },
  {
   "cell_type": "code",
   "execution_count": 57,
   "metadata": {},
   "outputs": [],
   "source": [
    "import time\n",
    "\n",
    "def main():\n",
    "    s='''1.Signup\\n2.Login\\n3.Exit'''\n",
    "    print(s)\n",
    "    ch=int(input('Enter choice from above'))\n",
    "    if ch==1:\n",
    "        signup()\n",
    "    elif ch==2:\n",
    "        login()\n",
    "    else:\n",
    "        exit()\n",
    "def exit():\n",
    "    print('Thanks for using our service')\n",
    "    for i in '..........Exciting..........':\n",
    "        time.sleep(0.1)\n",
    "        print(i,end='')"
   ]
  },
  {
   "cell_type": "code",
   "execution_count": 76,
   "metadata": {},
   "outputs": [],
   "source": [
    "def signup():\n",
    "    print('You are at signup page')\n",
    "    d={'Name':input('Enter your Name'),'Bal':int(input('Enter Balance')),'Pwd':getpass('Enter Password')}\n",
    "    acc=int(os.listdir('Bank/')[-1][0:4])\n",
    "    path=f'Bank/{acc+1}'+'.json'\n",
    "    f=open(path,'w')\n",
    "    json.dump(d,f)\n",
    "    f.close()\n",
    "    print('Signup Successfull')\n",
    "    print('Your Account number is: ',acc+1)\n",
    "    print('Now you can login')\n",
    "    time.sleep(2)\n",
    "    main()\n",
    "def login():\n",
    "    print('You are at login page')\n",
    "    acc=input('Enter account number')\n",
    "    path=acc+'.json'\n",
    "    if path in os.listdir('Bank/'):\n",
    "        f=open(f'Bank/{path}')\n",
    "        data=json.load(f)\n",
    "        f.close()\n",
    "        pwd=getpass('Enter Password')\n",
    "        if pwd==data['Pwd']:\n",
    "            time.sleep(1)\n",
    "            s='''1.Debit\\n2.Credit\\n3.Update Password\\n4.Check Balance'''\n",
    "            print(s)\n",
    "            ch=int(input('Enter any choice from above'))\n",
    "            if ch==1:\n",
    "                debit(acc,pwd)\n",
    "            elif ch==2:\n",
    "                credit(acc,pwd)\n",
    "            elif ch==3:\n",
    "                update_pwd(acc,pwd)\n",
    "            elif ch==4:\n",
    "                check_bal(acc,pwd)\n",
    "            else:\n",
    "                main()\n",
    "        else:\n",
    "            time.sleep(0.5)\n",
    "            print('Invalid Password')\n",
    "    else:\n",
    "        time.sleep(0.5)\n",
    "        print('Account not exist')"
   ]
  },
  {
   "cell_type": "code",
   "execution_count": 73,
   "metadata": {},
   "outputs": [
    {
     "name": "stdout",
     "output_type": "stream",
     "text": [
      "1.Signup\n",
      "2.Login\n",
      "3.Exit\n",
      "Enter choice from above2\n",
      "You are at login page\n",
      "Enter account number1001\n",
      "Enter Password········\n",
      "Login Successfull\n"
     ]
    }
   ],
   "source": [
    "main()"
   ]
  },
  {
   "cell_type": "code",
   "execution_count": 74,
   "metadata": {},
   "outputs": [
    {
     "name": "stdout",
     "output_type": "stream",
     "text": [
      "1.Signup\n",
      "2.Login\n",
      "3.Exit\n",
      "Enter choice from above2\n",
      "You are at login page\n",
      "Enter account number1005\n",
      "Account not exist\n"
     ]
    }
   ],
   "source": [
    "main()"
   ]
  },
  {
   "cell_type": "code",
   "execution_count": 75,
   "metadata": {},
   "outputs": [
    {
     "name": "stdout",
     "output_type": "stream",
     "text": [
      "1.Signup\n",
      "2.Login\n",
      "3.Exit\n",
      "Enter choice from above2\n",
      "You are at login page\n",
      "Enter account number1001\n",
      "Enter Password········\n",
      "Invalid Password\n"
     ]
    }
   ],
   "source": [
    "main()"
   ]
  },
  {
   "cell_type": "code",
   "execution_count": 82,
   "metadata": {},
   "outputs": [],
   "source": [
    "def debit(acc,pwd):\n",
    "    print('Now you are at debit Transaction Page')\n",
    "    f=open(f'Bank/{acc}.json')\n",
    "    data=json.load(f)\n",
    "    f.close()\n",
    "    amt=int(input('Enter the amount which you want to withdrawl'))\n",
    "    if amt <= data['Bal']:\n",
    "        data['Bal']-=amt\n",
    "        f=open(f'Bank/{acc}.json','w')\n",
    "        json.dump(data,f)\n",
    "        print('Debit Successful')\n",
    "        main()\n",
    "    else:\n",
    "        print('Insufficient Balance Amount')\n",
    "def credit(acc,pwd):\n",
    "    print('Now you are at credit Transaction Page')\n",
    "def udpate_pwd(acc,pwd):\n",
    "    print('Now you are at udpate password Page')\n",
    "def check_bal(acc,pwd):\n",
    "    print('Now you are at Check Balance Page')"
   ]
  },
  {
   "cell_type": "code",
   "execution_count": 81,
   "metadata": {},
   "outputs": [
    {
     "name": "stdout",
     "output_type": "stream",
     "text": [
      "1.Signup\n",
      "2.Login\n",
      "3.Exit\n",
      "Enter choice from above2\n",
      "You are at login page\n",
      "Enter account number1003\n",
      "Enter Password········\n",
      "1.Debit\n",
      "2.Credit\n",
      "3.Update Password\n",
      "4.Check Balance\n",
      "Enter any choice from above1\n",
      "Now you are at debit Transaction Page\n",
      "Enter the amount which you want to withdrawl12000\n"
     ]
    }
   ],
   "source": [
    "main()"
   ]
  },
  {
   "cell_type": "code",
   "execution_count": null,
   "metadata": {},
   "outputs": [],
   "source": []
  }
 ],
 "metadata": {
  "kernelspec": {
   "display_name": "Python 3",
   "language": "python",
   "name": "python3"
  },
  "language_info": {
   "codemirror_mode": {
    "name": "ipython",
    "version": 3
   },
   "file_extension": ".py",
   "mimetype": "text/x-python",
   "name": "python",
   "nbconvert_exporter": "python",
   "pygments_lexer": "ipython3",
   "version": "3.7.3"
  }
 },
 "nbformat": 4,
 "nbformat_minor": 2
}
