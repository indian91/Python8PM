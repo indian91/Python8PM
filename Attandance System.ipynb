{
 "cells": [
  {
   "cell_type": "code",
   "execution_count": 22,
   "metadata": {},
   "outputs": [],
   "source": [
    "import time\n",
    "f=open('attandance.txt','w')\n",
    "s='Name\\tSamyak\\tSachin\\tRajat\\tNidhi\\tSimran\\tKushal\\tYadvendra\\tAnshul\\tMayank\\tSanjay'\n",
    "f.write(s)\n",
    "f.close()"
   ]
  },
  {
   "cell_type": "code",
   "execution_count": 11,
   "metadata": {},
   "outputs": [
    {
     "name": "stdout",
     "output_type": "stream",
     "text": [
      "Name\tSamyak\tSachin\tRajat\tNidhi\tSimran\tKushal\tYadvendra\tAnshul\tMayank\tSanjay\n"
     ]
    }
   ],
   "source": [
    "!type attandance.txt"
   ]
  },
  {
   "cell_type": "code",
   "execution_count": 12,
   "metadata": {},
   "outputs": [],
   "source": [
    "f=open('attandance.txt')\n"
   ]
  },
  {
   "cell_type": "code",
   "execution_count": 13,
   "metadata": {},
   "outputs": [],
   "source": [
    "data=f.read()"
   ]
  },
  {
   "cell_type": "code",
   "execution_count": 14,
   "metadata": {},
   "outputs": [],
   "source": [
    "f.close()"
   ]
  },
  {
   "cell_type": "code",
   "execution_count": 15,
   "metadata": {},
   "outputs": [],
   "source": [
    "data=data.split('\\t')"
   ]
  },
  {
   "cell_type": "code",
   "execution_count": 16,
   "metadata": {},
   "outputs": [
    {
     "name": "stdout",
     "output_type": "stream",
     "text": [
      "['Name', 'Samyak', 'Sachin', 'Rajat', 'Nidhi', 'Simran', 'Kushal', 'Yadvendra', 'Anshul', 'Mayank', 'Sanjay']\n"
     ]
    }
   ],
   "source": [
    "print(data)"
   ]
  },
  {
   "cell_type": "code",
   "execution_count": 26,
   "metadata": {},
   "outputs": [
    {
     "name": "stdout",
     "output_type": "stream",
     "text": [
      "Samyak-->A\n",
      "Sachin-->P\n",
      "Rajat-->P\n",
      "Nidhi-->P\n",
      "Simran-->P\n",
      "Kushal-->A\n",
      "Yadvendra-->P\n",
      "Anshul-->P\n",
      "Mayank-->P\n",
      "Sanjay-->P\n"
     ]
    }
   ],
   "source": [
    "f=open('attandance.txt','a')\n",
    "s=time.strftime('%d/%m')\n",
    "s='\\n'+s\n",
    "f.write(s)\n",
    "for i in range(1,len(data)):\n",
    "    s=input(f'{data[i]}-->')\n",
    "    s='\\t'+s\n",
    "    f.write(s)\n",
    "f.close()"
   ]
  },
  {
   "cell_type": "code",
   "execution_count": 27,
   "metadata": {},
   "outputs": [],
   "source": [
    "f=open('attandance.txt')"
   ]
  },
  {
   "cell_type": "code",
   "execution_count": 28,
   "metadata": {},
   "outputs": [],
   "source": [
    "data=f.read()"
   ]
  },
  {
   "cell_type": "code",
   "execution_count": 29,
   "metadata": {},
   "outputs": [
    {
     "name": "stdout",
     "output_type": "stream",
     "text": [
      "Name\tSamyak\tSachin\tRajat\tNidhi\tSimran\tKushal\tYadvendra\tAnshul\tMayank\tSanjay\n",
      "04/06\tP\tA\tA\tP\tP\tP\tP\tP\tP\tA\n",
      "04/06\tA\tP\tP\tA\tA\tA\tA\tA\tP\tP\n",
      "04/06\tP\tP\tP\tA\tP\tP\tP\tP\tP\tP\n",
      "04/06\tA\tP\tP\tP\tP\tA\tP\tP\tP\tP\n"
     ]
    }
   ],
   "source": [
    "print(data)"
   ]
  },
  {
   "cell_type": "code",
   "execution_count": 30,
   "metadata": {},
   "outputs": [],
   "source": [
    "data=data.split('\\n')"
   ]
  },
  {
   "cell_type": "code",
   "execution_count": 31,
   "metadata": {},
   "outputs": [
    {
     "name": "stdout",
     "output_type": "stream",
     "text": [
      "['Name\\tSamyak\\tSachin\\tRajat\\tNidhi\\tSimran\\tKushal\\tYadvendra\\tAnshul\\tMayank\\tSanjay', '04/06\\tP\\tA\\tA\\tP\\tP\\tP\\tP\\tP\\tP\\tA', '04/06\\tA\\tP\\tP\\tA\\tA\\tA\\tA\\tA\\tP\\tP', '04/06\\tP\\tP\\tP\\tA\\tP\\tP\\tP\\tP\\tP\\tP', '04/06\\tA\\tP\\tP\\tP\\tP\\tA\\tP\\tP\\tP\\tP']\n"
     ]
    }
   ],
   "source": [
    "print(data)"
   ]
  },
  {
   "cell_type": "code",
   "execution_count": 33,
   "metadata": {},
   "outputs": [],
   "source": [
    "l=[]\n",
    "for i in data:\n",
    "    l.append(i.split('\\t'))"
   ]
  },
  {
   "cell_type": "code",
   "execution_count": 35,
   "metadata": {},
   "outputs": [
    {
     "name": "stdout",
     "output_type": "stream",
     "text": [
      "[['Name', 'Samyak', 'Sachin', 'Rajat', 'Nidhi', 'Simran', 'Kushal', 'Yadvendra', 'Anshul', 'Mayank', 'Sanjay'], ['04/06', 'P', 'A', 'A', 'P', 'P', 'P', 'P', 'P', 'P', 'A'], ['04/06', 'A', 'P', 'P', 'A', 'A', 'A', 'A', 'A', 'P', 'P'], ['04/06', 'P', 'P', 'P', 'A', 'P', 'P', 'P', 'P', 'P', 'P'], ['04/06', 'A', 'P', 'P', 'P', 'P', 'A', 'P', 'P', 'P', 'P']]\n"
     ]
    }
   ],
   "source": [
    "print(l)"
   ]
  },
  {
   "cell_type": "code",
   "execution_count": 37,
   "metadata": {},
   "outputs": [
    {
     "name": "stdout",
     "output_type": "stream",
     "text": [
      "['Name', 'Samyak', 'Sachin', 'Rajat', 'Nidhi', 'Simran', 'Kushal', 'Yadvendra', 'Anshul', 'Mayank', 'Sanjay']\n",
      "['04/06', 'P', 'A', 'A', 'P', 'P', 'P', 'P', 'P', 'P', 'A']\n",
      "['04/06', 'A', 'P', 'P', 'A', 'A', 'A', 'A', 'A', 'P', 'P']\n",
      "['04/06', 'P', 'P', 'P', 'A', 'P', 'P', 'P', 'P', 'P', 'P']\n",
      "['04/06', 'A', 'P', 'P', 'P', 'P', 'A', 'P', 'P', 'P', 'P']\n"
     ]
    }
   ],
   "source": [
    "for i in l:\n",
    "    print(i)"
   ]
  },
  {
   "cell_type": "code",
   "execution_count": 40,
   "metadata": {},
   "outputs": [
    {
     "name": "stdout",
     "output_type": "stream",
     "text": [
      "Samyak\tSachin\tRajat\tNidhi\tSimran\tKushal\tYadvendra\tAnshul\tMayank\tSanjay\t\n",
      "P\tA\tA\tP\tP\tP\tP\tP\tP\tA\t\n",
      "A\tP\tP\tA\tA\tA\tA\tA\tP\tP\t\n",
      "P\tP\tP\tA\tP\tP\tP\tP\tP\tP\t\n",
      "A\tP\tP\tP\tP\tA\tP\tP\tP\tP\t\n"
     ]
    }
   ],
   "source": [
    "for i in l:\n",
    "    for j in range(1,len(i)):\n",
    "        print(i[j],end='\\t')\n",
    "    print()"
   ]
  },
  {
   "cell_type": "code",
   "execution_count": 50,
   "metadata": {},
   "outputs": [
    {
     "name": "stdout",
     "output_type": "stream",
     "text": [
      "Samyak\tP\tA\tP\tA\t\n",
      "Sachin\tA\tP\tP\tP\t\n",
      "Rajat\tA\tP\tP\tP\t\n",
      "Nidhi\tP\tA\tA\tP\t\n",
      "Simran\tP\tA\tP\tP\t\n",
      "Kushal\tP\tA\tP\tA\t\n",
      "Yadvendra\tP\tA\tP\tP\t\n",
      "Anshul\tP\tA\tP\tP\t\n",
      "Mayank\tP\tP\tP\tP\t\n"
     ]
    }
   ],
   "source": [
    "for j in range(1,10):\n",
    "    for i in range(0,len(l)):\n",
    "        print(l[i][j],end='\\t')\n",
    "    print()"
   ]
  },
  {
   "cell_type": "code",
   "execution_count": 52,
   "metadata": {},
   "outputs": [
    {
     "name": "stdout",
     "output_type": "stream",
     "text": [
      "Samyak----> Present: 2\tAbscent: 2\n",
      "Sachin----> Present: 3\tAbscent: 1\n",
      "Rajat----> Present: 3\tAbscent: 1\n",
      "Nidhi----> Present: 2\tAbscent: 2\n",
      "Simran----> Present: 3\tAbscent: 1\n",
      "Kushal----> Present: 2\tAbscent: 2\n",
      "Yadvendra----> Present: 3\tAbscent: 1\n",
      "Anshul----> Present: 3\tAbscent: 1\n",
      "Mayank----> Present: 4\tAbscent: 0\n"
     ]
    }
   ],
   "source": [
    "for j in range(1,10):\n",
    "    l1=[]\n",
    "    for i in range(0,len(l)):\n",
    "        l1.append(l[i][j])\n",
    "    present=l1.count('p')+l1.count('P')\n",
    "    abscent=l1.count('a')+l1.count('A')\n",
    "    print(f'{l1[0]}----> Present: {present}\\tAbscent: {abscent}')"
   ]
  },
  {
   "cell_type": "code",
   "execution_count": 75,
   "metadata": {},
   "outputs": [
    {
     "name": "stdout",
     "output_type": "stream",
     "text": [
      "Writing attandance.py\n"
     ]
    }
   ],
   "source": [
    "%%writefile attandance.py\n",
    "def count_attandance():\n",
    "    f=open('attandance.txt')\n",
    "    data=f.read()\n",
    "    data=data.split('\\n')\n",
    "    no_of_student=len(data[0].split('\\t'))-1\n",
    "    l=[]\n",
    "    for i in data:\n",
    "        l.append(i.split('\\t'))\n",
    "    for j in range(1,no_of_student):\n",
    "        l1=[]\n",
    "        for i in range(0,len(l)):\n",
    "            l1.append(l[i][j])\n",
    "        present=l1.count('p')+l1.count('P')\n",
    "        abscent=l1.count('a')+l1.count('A')\n",
    "        print(f'{l1[0]}----> Present: {present}\\tAbscent: {abscent}')\n",
    "def take_attandance():\n",
    "    f=open('attandance.txt')\n",
    "    data=f.read()\n",
    "    data=data.split('\\t')\n",
    "    f.close()\n",
    "    f=open('attandance.txt','a')\n",
    "    s=time.strftime('%d/%m')\n",
    "    s='\\n'+s\n",
    "    f.write(s)\n",
    "    for i in range(1,len(data)):\n",
    "        s=input(f'{data[i]}-->')\n",
    "        s='\\t'+s\n",
    "        f.write(s)\n",
    "    f.close()"
   ]
  },
  {
   "cell_type": "code",
   "execution_count": 69,
   "metadata": {},
   "outputs": [],
   "source": []
  },
  {
   "cell_type": "code",
   "execution_count": 56,
   "metadata": {},
   "outputs": [],
   "source": [
    "f=open('attandance.txt')\n",
    "data=f.read()\n",
    "data=data.split('\\n')\n",
    "no_of_student=len(data[0].split('\\t'))-1"
   ]
  },
  {
   "cell_type": "code",
   "execution_count": 57,
   "metadata": {},
   "outputs": [
    {
     "name": "stdout",
     "output_type": "stream",
     "text": [
      "10\n"
     ]
    }
   ],
   "source": [
    "print(no_of_student)"
   ]
  },
  {
   "cell_type": "code",
   "execution_count": 58,
   "metadata": {},
   "outputs": [],
   "source": [
    "f=open('attandance.txt')"
   ]
  },
  {
   "cell_type": "code",
   "execution_count": 59,
   "metadata": {},
   "outputs": [],
   "source": [
    "data=f.read()"
   ]
  },
  {
   "cell_type": "code",
   "execution_count": 61,
   "metadata": {},
   "outputs": [
    {
     "name": "stdout",
     "output_type": "stream",
     "text": [
      "Name\tSamyak\tSachin\tRajat\tNidhi\tSimran\tKushal\tYadvendra\tAnshul\tMayank\tSanjay\n",
      "04/06\tP\tA\tA\tP\tP\tP\tP\tP\tP\tA\n",
      "04/06\tA\tP\tP\tA\tA\tA\tA\tA\tP\tP\n",
      "04/06\tP\tP\tP\tA\tP\tP\tP\tP\tP\tP\n",
      "04/06\tA\tP\tP\tP\tP\tA\tP\tP\tP\tP\n"
     ]
    }
   ],
   "source": [
    "print(data)"
   ]
  },
  {
   "cell_type": "code",
   "execution_count": 62,
   "metadata": {},
   "outputs": [],
   "source": [
    "data=data.split('\\n')"
   ]
  },
  {
   "cell_type": "code",
   "execution_count": 67,
   "metadata": {},
   "outputs": [
    {
     "data": {
      "text/plain": [
       "10"
      ]
     },
     "execution_count": 67,
     "metadata": {},
     "output_type": "execute_result"
    }
   ],
   "source": [
    "len(data[0].split('\\t'))-1"
   ]
  },
  {
   "cell_type": "code",
   "execution_count": 19,
   "metadata": {},
   "outputs": [
    {
     "name": "stdout",
     "output_type": "stream",
     "text": [
      "Overwriting attandace_system.py\n"
     ]
    }
   ],
   "source": [
    "%%writefile attandace_system.py\n",
    "import time\n",
    "def main():\n",
    "    s='''1.Create Attandance Register\\n2.Take Attandance\\n3.Count Attandance'''\n",
    "    print(s)\n",
    "    ch=int(input('Enter Choice: '))\n",
    "    if ch==1:\n",
    "        create_attandance_register()\n",
    "    elif ch==2:\n",
    "        take_attandance()\n",
    "    elif ch==3:\n",
    "        count_attandance()\n",
    "    else:\n",
    "        print('Thanks for using our service')\n",
    "        for i in '..........Exciting..........':\n",
    "            time.sleep(0.1)\n",
    "            print(i,end='')\n",
    "def create_attandance_register():\n",
    "    f=open('attandance1.txt','w')\n",
    "    n=int(input('Enter number of stuent'))\n",
    "    s='Name'\n",
    "    for i in range(n):\n",
    "        s=s+'\\t'+input('Enter Name')\n",
    "    f.write(s)\n",
    "    f.close()\n",
    "\n",
    "def take_attandance():\n",
    "    f=open('attandance1.txt')\n",
    "    data=f.read()\n",
    "    data=data.split('\\n')[0].split('\\t')\n",
    "    f.close()\n",
    "    f=open('attandance1.txt','a')\n",
    "    s=time.strftime('%d/%m')\n",
    "    s='\\n'+s\n",
    "    f.write(s)\n",
    "    for i in range(1,len(data)):\n",
    "        s=input(f'{data[i]}-->')\n",
    "        s='\\t'+s\n",
    "        f.write(s)\n",
    "    f.close()\n",
    "def count_attandance():\n",
    "    f=open('attandance1.txt')\n",
    "    data=f.read()\n",
    "    data=data.split('\\n')\n",
    "    no_of_student=len(data[0].split('\\t'))\n",
    "    l=[]\n",
    "    for i in data:\n",
    "        l.append(i.split('\\t'))\n",
    "    for j in range(1,no_of_student):\n",
    "        l1=[]\n",
    "        for i in range(0,len(l)):\n",
    "            l1.append(l[i][j])\n",
    "        present=l1.count('p')+l1.count('P')\n",
    "        abscent=l1.count('a')+l1.count('A')\n",
    "        print(f'{l1[0]}----> Present: {present}\\tAbscent: {abscent}')\n",
    "        \n",
    "main()"
   ]
  },
  {
   "cell_type": "code",
   "execution_count": 17,
   "metadata": {},
   "outputs": [
    {
     "name": "stdout",
     "output_type": "stream",
     "text": [
      "1.Create Attandance Register\n",
      "2.Take Attandance\n",
      "3.Count Attandance\n",
      "Enter Choice: 3\n",
      "B----> Present: 4\tAbscent: 0\n",
      "C----> Present: 2\tAbscent: 2\n",
      "D----> Present: 2\tAbscent: 2\n",
      "E----> Present: 3\tAbscent: 1\n",
      "F----> Present: 4\tAbscent: 0\n"
     ]
    }
   ],
   "source": [
    "main()"
   ]
  },
  {
   "cell_type": "code",
   "execution_count": 21,
   "metadata": {},
   "outputs": [],
   "source": [
    "#JSON----->serialization/deserialization\n",
    "#Pickle--->Data Science"
   ]
  },
  {
   "cell_type": "code",
   "execution_count": null,
   "metadata": {},
   "outputs": [],
   "source": []
  }
 ],
 "metadata": {
  "kernelspec": {
   "display_name": "Python 3",
   "language": "python",
   "name": "python3"
  },
  "language_info": {
   "codemirror_mode": {
    "name": "ipython",
    "version": 3
   },
   "file_extension": ".py",
   "mimetype": "text/x-python",
   "name": "python",
   "nbconvert_exporter": "python",
   "pygments_lexer": "ipython3",
   "version": "3.7.3"
  }
 },
 "nbformat": 4,
 "nbformat_minor": 2
}
